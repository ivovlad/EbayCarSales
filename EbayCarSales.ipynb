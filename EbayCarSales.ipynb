{
 "cells": [
  {
   "cell_type": "markdown",
   "metadata": {
    "collapsed": true
   },
   "source": [
    "# Exploring Ebay Car Sales Data"
   ]
  },
  {
   "cell_type": "markdown",
   "metadata": {},
   "source": [
    ">The aim of this project is to clean the data and analyze the included used car listings."
   ]
  },
  {
   "cell_type": "markdown",
   "metadata": {},
   "source": [
    "## 1. Introduction to the Data Set"
   ]
  },
  {
   "cell_type": "markdown",
   "metadata": {},
   "source": [
    "The data set consists of 50,000 data points, organized in the following fields:"
   ]
  },
  {
   "cell_type": "markdown",
   "metadata": {},
   "source": [
    "|Column Name | Col Description|\n",
    "| :--- | :---|\n",
    "|dateCrawled | When this ad was first crawled. All field-values are taken from this date.|\n",
    "|name | Name of the car.|\n",
    "|seller | Whether the seller is private or a dealer.|\n",
    "|offerType | The type of listing|\n",
    "|price | The price on the ad to sell the car.|\n",
    "|abtest | Whether the listing is included in an A/B test.|\n",
    "|vehicleType | The vehicle Type.|\n",
    "|yearOfRegistration | The year in which the car was first registered.|\n",
    "|gearbox | The transmission type.|\n",
    "|powerPS | The power of the car in PS.|\n",
    "|model | The car model name.|\n",
    "|kilometer | How many kilometers the car has driven.|\n",
    "|monthOfRegistration | The month in which the car was first registered.|\n",
    "|fuelType | What type of fuel the car uses.|\n",
    "|brand | The brand of the car.|\n",
    "|notRepairedDamage | If the car has a damage which is not yet repaired.|\n",
    "|dateCreated | The date on which the eBay listing was created.|\n",
    "|nrOfPictures | The number of pictures in the ad.|\n",
    "|postalCode | The postal code for the location of the vehicle.|\n",
    "|lastSeenOnline | When the crawler saw this ad last online.|"
   ]
  },
  {
   "cell_type": "code",
   "execution_count": 1,
   "metadata": {
    "collapsed": false
   },
   "outputs": [],
   "source": [
    "import pandas as pd\n",
    "import numpy as np\n",
    "autos = pd.read_csv('autos.csv', encoding = 'Latin-1')\n"
   ]
  },
  {
   "cell_type": "code",
   "execution_count": 2,
   "metadata": {
    "collapsed": false
   },
   "outputs": [
    {
     "data": {
      "text/html": [
       "<div>\n",
       "<style scoped>\n",
       "    .dataframe tbody tr th:only-of-type {\n",
       "        vertical-align: middle;\n",
       "    }\n",
       "\n",
       "    .dataframe tbody tr th {\n",
       "        vertical-align: top;\n",
       "    }\n",
       "\n",
       "    .dataframe thead th {\n",
       "        text-align: right;\n",
       "    }\n",
       "</style>\n",
       "<table border=\"1\" class=\"dataframe\">\n",
       "  <thead>\n",
       "    <tr style=\"text-align: right;\">\n",
       "      <th></th>\n",
       "      <th>dateCrawled</th>\n",
       "      <th>name</th>\n",
       "      <th>seller</th>\n",
       "      <th>offerType</th>\n",
       "      <th>price</th>\n",
       "      <th>abtest</th>\n",
       "      <th>vehicleType</th>\n",
       "      <th>yearOfRegistration</th>\n",
       "      <th>gearbox</th>\n",
       "      <th>powerPS</th>\n",
       "      <th>model</th>\n",
       "      <th>odometer</th>\n",
       "      <th>monthOfRegistration</th>\n",
       "      <th>fuelType</th>\n",
       "      <th>brand</th>\n",
       "      <th>notRepairedDamage</th>\n",
       "      <th>dateCreated</th>\n",
       "      <th>nrOfPictures</th>\n",
       "      <th>postalCode</th>\n",
       "      <th>lastSeen</th>\n",
       "    </tr>\n",
       "  </thead>\n",
       "  <tbody>\n",
       "    <tr>\n",
       "      <th>0</th>\n",
       "      <td>2016-03-26 17:47:46</td>\n",
       "      <td>Peugeot_807_160_NAVTECH_ON_BOARD</td>\n",
       "      <td>privat</td>\n",
       "      <td>Angebot</td>\n",
       "      <td>$5,000</td>\n",
       "      <td>control</td>\n",
       "      <td>bus</td>\n",
       "      <td>2004</td>\n",
       "      <td>manuell</td>\n",
       "      <td>158</td>\n",
       "      <td>andere</td>\n",
       "      <td>150,000km</td>\n",
       "      <td>3</td>\n",
       "      <td>lpg</td>\n",
       "      <td>peugeot</td>\n",
       "      <td>nein</td>\n",
       "      <td>2016-03-26 00:00:00</td>\n",
       "      <td>0</td>\n",
       "      <td>79588</td>\n",
       "      <td>2016-04-06 06:45:54</td>\n",
       "    </tr>\n",
       "    <tr>\n",
       "      <th>1</th>\n",
       "      <td>2016-04-04 13:38:56</td>\n",
       "      <td>BMW_740i_4_4_Liter_HAMANN_UMBAU_Mega_Optik</td>\n",
       "      <td>privat</td>\n",
       "      <td>Angebot</td>\n",
       "      <td>$8,500</td>\n",
       "      <td>control</td>\n",
       "      <td>limousine</td>\n",
       "      <td>1997</td>\n",
       "      <td>automatik</td>\n",
       "      <td>286</td>\n",
       "      <td>7er</td>\n",
       "      <td>150,000km</td>\n",
       "      <td>6</td>\n",
       "      <td>benzin</td>\n",
       "      <td>bmw</td>\n",
       "      <td>nein</td>\n",
       "      <td>2016-04-04 00:00:00</td>\n",
       "      <td>0</td>\n",
       "      <td>71034</td>\n",
       "      <td>2016-04-06 14:45:08</td>\n",
       "    </tr>\n",
       "    <tr>\n",
       "      <th>2</th>\n",
       "      <td>2016-03-26 18:57:24</td>\n",
       "      <td>Volkswagen_Golf_1.6_United</td>\n",
       "      <td>privat</td>\n",
       "      <td>Angebot</td>\n",
       "      <td>$8,990</td>\n",
       "      <td>test</td>\n",
       "      <td>limousine</td>\n",
       "      <td>2009</td>\n",
       "      <td>manuell</td>\n",
       "      <td>102</td>\n",
       "      <td>golf</td>\n",
       "      <td>70,000km</td>\n",
       "      <td>7</td>\n",
       "      <td>benzin</td>\n",
       "      <td>volkswagen</td>\n",
       "      <td>nein</td>\n",
       "      <td>2016-03-26 00:00:00</td>\n",
       "      <td>0</td>\n",
       "      <td>35394</td>\n",
       "      <td>2016-04-06 20:15:37</td>\n",
       "    </tr>\n",
       "  </tbody>\n",
       "</table>\n",
       "</div>"
      ],
      "text/plain": [
       "           dateCrawled                                        name  seller  \\\n",
       "0  2016-03-26 17:47:46            Peugeot_807_160_NAVTECH_ON_BOARD  privat   \n",
       "1  2016-04-04 13:38:56  BMW_740i_4_4_Liter_HAMANN_UMBAU_Mega_Optik  privat   \n",
       "2  2016-03-26 18:57:24                  Volkswagen_Golf_1.6_United  privat   \n",
       "\n",
       "  offerType   price   abtest vehicleType  yearOfRegistration    gearbox  \\\n",
       "0   Angebot  $5,000  control         bus                2004    manuell   \n",
       "1   Angebot  $8,500  control   limousine                1997  automatik   \n",
       "2   Angebot  $8,990     test   limousine                2009    manuell   \n",
       "\n",
       "   powerPS   model   odometer  monthOfRegistration fuelType       brand  \\\n",
       "0      158  andere  150,000km                    3      lpg     peugeot   \n",
       "1      286     7er  150,000km                    6   benzin         bmw   \n",
       "2      102    golf   70,000km                    7   benzin  volkswagen   \n",
       "\n",
       "  notRepairedDamage          dateCreated  nrOfPictures  postalCode  \\\n",
       "0              nein  2016-03-26 00:00:00             0       79588   \n",
       "1              nein  2016-04-04 00:00:00             0       71034   \n",
       "2              nein  2016-03-26 00:00:00             0       35394   \n",
       "\n",
       "              lastSeen  \n",
       "0  2016-04-06 06:45:54  \n",
       "1  2016-04-06 14:45:08  \n",
       "2  2016-04-06 20:15:37  "
      ]
     },
     "execution_count": 2,
     "metadata": {},
     "output_type": "execute_result"
    }
   ],
   "source": [
    "autos.head(3)"
   ]
  },
  {
   "cell_type": "code",
   "execution_count": 3,
   "metadata": {
    "collapsed": false
   },
   "outputs": [
    {
     "name": "stdout",
     "output_type": "stream",
     "text": [
      "0 dateCrawled\n",
      "1 name\n",
      "2 seller\n",
      "3 offerType\n",
      "4 price\n",
      "5 abtest\n",
      "6 vehicleType\n",
      "7 yearOfRegistration\n",
      "8 gearbox\n",
      "9 powerPS\n",
      "10 model\n",
      "11 odometer\n",
      "12 monthOfRegistration\n",
      "13 fuelType\n",
      "14 brand\n",
      "15 notRepairedDamage\n",
      "16 dateCreated\n",
      "17 nrOfPictures\n",
      "18 postalCode\n",
      "19 lastSeen\n"
     ]
    }
   ],
   "source": [
    "for i in range(len(autos.columns)):\n",
    "    print(i, autos.columns[i])"
   ]
  },
  {
   "cell_type": "markdown",
   "metadata": {},
   "source": [
    "## 2. Cleaning Column Names"
   ]
  },
  {
   "cell_type": "code",
   "execution_count": 4,
   "metadata": {
    "collapsed": false
   },
   "outputs": [
    {
     "data": {
      "text/plain": [
       "{'abtest': 'abtest',\n",
       " 'brand': 'brand',\n",
       " 'dateCrawled': 'date_crawled',\n",
       " 'dateCreated': 'ad_created',\n",
       " 'fuelType': 'fuel_type',\n",
       " 'gearbox': 'gearbox',\n",
       " 'lastSeen': 'last_seen',\n",
       " 'model': 'model',\n",
       " 'monthOfRegistration': 'registration_month',\n",
       " 'name': 'name',\n",
       " 'notRepairedDamage': 'unrepaired_damage',\n",
       " 'nrOfPictures': 'nr_of_pictures',\n",
       " 'odometer': 'odometer',\n",
       " 'offerType': 'offer_type',\n",
       " 'postalCode': 'postal_code',\n",
       " 'powerPS': 'power_p_s',\n",
       " 'price': 'price',\n",
       " 'seller': 'seller',\n",
       " 'vehicleType': 'vehicle_type',\n",
       " 'yearOfRegistration': 'registration_year'}"
      ]
     },
     "execution_count": 4,
     "metadata": {},
     "output_type": "execute_result"
    }
   ],
   "source": [
    "#Populate a dictionary with mapping criteria for renaming columns.\n",
    "c = autos.columns.copy()\n",
    "m = {\n",
    "    'yearOfRegistration' : 'registration_year',\n",
    "    'monthOfRegistration' : 'registration_month',\n",
    "    'notRepairedDamage' : 'unrepaired_damage',\n",
    "    'dateCreated' : 'ad_created'\n",
    "    }\n",
    "for i in c:\n",
    "    if i not in m:\n",
    "        split_points = []\n",
    "        start = 0\n",
    "        for j in range(len(i)):\n",
    "            if i[j] in 'ABCDEFGHIJKLMNOPQRSTUVWXYZ':\n",
    "                split_points.append(i[start:j].lower())\n",
    "                start = j\n",
    "        split_points.append(i[start:].lower())\n",
    "        if len(split_points) > 0:\n",
    "            m[i]='_'.join(split_points)\n",
    "        else:\n",
    "            m[i] = i\n",
    "m"
   ]
  },
  {
   "cell_type": "code",
   "execution_count": 5,
   "metadata": {
    "collapsed": false
   },
   "outputs": [
    {
     "data": {
      "text/html": [
       "<div>\n",
       "<style scoped>\n",
       "    .dataframe tbody tr th:only-of-type {\n",
       "        vertical-align: middle;\n",
       "    }\n",
       "\n",
       "    .dataframe tbody tr th {\n",
       "        vertical-align: top;\n",
       "    }\n",
       "\n",
       "    .dataframe thead th {\n",
       "        text-align: right;\n",
       "    }\n",
       "</style>\n",
       "<table border=\"1\" class=\"dataframe\">\n",
       "  <thead>\n",
       "    <tr style=\"text-align: right;\">\n",
       "      <th></th>\n",
       "      <th>date_crawled</th>\n",
       "      <th>name</th>\n",
       "      <th>seller</th>\n",
       "      <th>offer_type</th>\n",
       "      <th>price</th>\n",
       "      <th>abtest</th>\n",
       "      <th>vehicle_type</th>\n",
       "      <th>registration_year</th>\n",
       "      <th>gearbox</th>\n",
       "      <th>power_p_s</th>\n",
       "      <th>model</th>\n",
       "      <th>odometer</th>\n",
       "      <th>registration_month</th>\n",
       "      <th>fuel_type</th>\n",
       "      <th>brand</th>\n",
       "      <th>unrepaired_damage</th>\n",
       "      <th>ad_created</th>\n",
       "      <th>nr_of_pictures</th>\n",
       "      <th>postal_code</th>\n",
       "      <th>last_seen</th>\n",
       "    </tr>\n",
       "  </thead>\n",
       "  <tbody>\n",
       "    <tr>\n",
       "      <th>0</th>\n",
       "      <td>2016-03-26 17:47:46</td>\n",
       "      <td>Peugeot_807_160_NAVTECH_ON_BOARD</td>\n",
       "      <td>privat</td>\n",
       "      <td>Angebot</td>\n",
       "      <td>$5,000</td>\n",
       "      <td>control</td>\n",
       "      <td>bus</td>\n",
       "      <td>2004</td>\n",
       "      <td>manuell</td>\n",
       "      <td>158</td>\n",
       "      <td>andere</td>\n",
       "      <td>150,000km</td>\n",
       "      <td>3</td>\n",
       "      <td>lpg</td>\n",
       "      <td>peugeot</td>\n",
       "      <td>nein</td>\n",
       "      <td>2016-03-26 00:00:00</td>\n",
       "      <td>0</td>\n",
       "      <td>79588</td>\n",
       "      <td>2016-04-06 06:45:54</td>\n",
       "    </tr>\n",
       "    <tr>\n",
       "      <th>1</th>\n",
       "      <td>2016-04-04 13:38:56</td>\n",
       "      <td>BMW_740i_4_4_Liter_HAMANN_UMBAU_Mega_Optik</td>\n",
       "      <td>privat</td>\n",
       "      <td>Angebot</td>\n",
       "      <td>$8,500</td>\n",
       "      <td>control</td>\n",
       "      <td>limousine</td>\n",
       "      <td>1997</td>\n",
       "      <td>automatik</td>\n",
       "      <td>286</td>\n",
       "      <td>7er</td>\n",
       "      <td>150,000km</td>\n",
       "      <td>6</td>\n",
       "      <td>benzin</td>\n",
       "      <td>bmw</td>\n",
       "      <td>nein</td>\n",
       "      <td>2016-04-04 00:00:00</td>\n",
       "      <td>0</td>\n",
       "      <td>71034</td>\n",
       "      <td>2016-04-06 14:45:08</td>\n",
       "    </tr>\n",
       "  </tbody>\n",
       "</table>\n",
       "</div>"
      ],
      "text/plain": [
       "          date_crawled                                        name  seller  \\\n",
       "0  2016-03-26 17:47:46            Peugeot_807_160_NAVTECH_ON_BOARD  privat   \n",
       "1  2016-04-04 13:38:56  BMW_740i_4_4_Liter_HAMANN_UMBAU_Mega_Optik  privat   \n",
       "\n",
       "  offer_type   price   abtest vehicle_type  registration_year    gearbox  \\\n",
       "0    Angebot  $5,000  control          bus               2004    manuell   \n",
       "1    Angebot  $8,500  control    limousine               1997  automatik   \n",
       "\n",
       "   power_p_s   model   odometer  registration_month fuel_type    brand  \\\n",
       "0        158  andere  150,000km                   3       lpg  peugeot   \n",
       "1        286     7er  150,000km                   6    benzin      bmw   \n",
       "\n",
       "  unrepaired_damage           ad_created  nr_of_pictures  postal_code  \\\n",
       "0              nein  2016-03-26 00:00:00               0        79588   \n",
       "1              nein  2016-04-04 00:00:00               0        71034   \n",
       "\n",
       "             last_seen  \n",
       "0  2016-04-06 06:45:54  \n",
       "1  2016-04-06 14:45:08  "
      ]
     },
     "execution_count": 5,
     "metadata": {},
     "output_type": "execute_result"
    }
   ],
   "source": [
    "#Use the mapping dic to change column names\n",
    "autos.rename(columns = m, inplace = True)\n",
    "autos.head(2)"
   ]
  },
  {
   "cell_type": "markdown",
   "metadata": {},
   "source": [
    "#### New Column Names and Indexes"
   ]
  },
  {
   "cell_type": "code",
   "execution_count": 6,
   "metadata": {
    "collapsed": false
   },
   "outputs": [
    {
     "name": "stdout",
     "output_type": "stream",
     "text": [
      "0 date_crawled\n",
      "1 name\n",
      "2 seller\n",
      "3 offer_type\n",
      "4 price\n",
      "5 abtest\n",
      "6 vehicle_type\n",
      "7 registration_year\n",
      "8 gearbox\n",
      "9 power_p_s\n",
      "10 model\n",
      "11 odometer\n",
      "12 registration_month\n",
      "13 fuel_type\n",
      "14 brand\n",
      "15 unrepaired_damage\n",
      "16 ad_created\n",
      "17 nr_of_pictures\n",
      "18 postal_code\n",
      "19 last_seen\n"
     ]
    }
   ],
   "source": [
    "for i in range(len(autos.columns)):\n",
    "    print(i, autos.columns[i])"
   ]
  },
  {
   "cell_type": "markdown",
   "metadata": {},
   "source": [
    ">Thus far we have reviewed the dataset and changed the column headings. For the sake of simplicity and clarity we converted 'camelcase' to 'snakecase' and shortened some of the names. All headings are lower case now."
   ]
  },
  {
   "cell_type": "markdown",
   "metadata": {},
   "source": [
    "## 3. Initial Exploration and Cleaning."
   ]
  },
  {
   "cell_type": "code",
   "execution_count": 7,
   "metadata": {
    "collapsed": false
   },
   "outputs": [
    {
     "data": {
      "text/html": [
       "<div>\n",
       "<style scoped>\n",
       "    .dataframe tbody tr th:only-of-type {\n",
       "        vertical-align: middle;\n",
       "    }\n",
       "\n",
       "    .dataframe tbody tr th {\n",
       "        vertical-align: top;\n",
       "    }\n",
       "\n",
       "    .dataframe thead th {\n",
       "        text-align: right;\n",
       "    }\n",
       "</style>\n",
       "<table border=\"1\" class=\"dataframe\">\n",
       "  <thead>\n",
       "    <tr style=\"text-align: right;\">\n",
       "      <th></th>\n",
       "      <th>date_crawled</th>\n",
       "      <th>name</th>\n",
       "      <th>seller</th>\n",
       "      <th>offer_type</th>\n",
       "      <th>price</th>\n",
       "      <th>abtest</th>\n",
       "      <th>vehicle_type</th>\n",
       "      <th>registration_year</th>\n",
       "      <th>gearbox</th>\n",
       "      <th>power_p_s</th>\n",
       "      <th>model</th>\n",
       "      <th>odometer</th>\n",
       "      <th>registration_month</th>\n",
       "      <th>fuel_type</th>\n",
       "      <th>brand</th>\n",
       "      <th>unrepaired_damage</th>\n",
       "      <th>ad_created</th>\n",
       "      <th>nr_of_pictures</th>\n",
       "      <th>postal_code</th>\n",
       "      <th>last_seen</th>\n",
       "    </tr>\n",
       "  </thead>\n",
       "  <tbody>\n",
       "    <tr>\n",
       "      <th>count</th>\n",
       "      <td>50000</td>\n",
       "      <td>50000</td>\n",
       "      <td>50000</td>\n",
       "      <td>50000</td>\n",
       "      <td>50000</td>\n",
       "      <td>50000</td>\n",
       "      <td>44905</td>\n",
       "      <td>50000.000000</td>\n",
       "      <td>47320</td>\n",
       "      <td>50000.000000</td>\n",
       "      <td>47242</td>\n",
       "      <td>50000</td>\n",
       "      <td>50000.000000</td>\n",
       "      <td>45518</td>\n",
       "      <td>50000</td>\n",
       "      <td>40171</td>\n",
       "      <td>50000</td>\n",
       "      <td>50000.0</td>\n",
       "      <td>50000.000000</td>\n",
       "      <td>50000</td>\n",
       "    </tr>\n",
       "    <tr>\n",
       "      <th>unique</th>\n",
       "      <td>48213</td>\n",
       "      <td>38754</td>\n",
       "      <td>2</td>\n",
       "      <td>2</td>\n",
       "      <td>2357</td>\n",
       "      <td>2</td>\n",
       "      <td>8</td>\n",
       "      <td>NaN</td>\n",
       "      <td>2</td>\n",
       "      <td>NaN</td>\n",
       "      <td>245</td>\n",
       "      <td>13</td>\n",
       "      <td>NaN</td>\n",
       "      <td>7</td>\n",
       "      <td>40</td>\n",
       "      <td>2</td>\n",
       "      <td>76</td>\n",
       "      <td>NaN</td>\n",
       "      <td>NaN</td>\n",
       "      <td>39481</td>\n",
       "    </tr>\n",
       "    <tr>\n",
       "      <th>top</th>\n",
       "      <td>2016-03-11 22:38:16</td>\n",
       "      <td>Ford_Fiesta</td>\n",
       "      <td>privat</td>\n",
       "      <td>Angebot</td>\n",
       "      <td>$0</td>\n",
       "      <td>test</td>\n",
       "      <td>limousine</td>\n",
       "      <td>NaN</td>\n",
       "      <td>manuell</td>\n",
       "      <td>NaN</td>\n",
       "      <td>golf</td>\n",
       "      <td>150,000km</td>\n",
       "      <td>NaN</td>\n",
       "      <td>benzin</td>\n",
       "      <td>volkswagen</td>\n",
       "      <td>nein</td>\n",
       "      <td>2016-04-03 00:00:00</td>\n",
       "      <td>NaN</td>\n",
       "      <td>NaN</td>\n",
       "      <td>2016-04-07 06:17:27</td>\n",
       "    </tr>\n",
       "    <tr>\n",
       "      <th>freq</th>\n",
       "      <td>3</td>\n",
       "      <td>78</td>\n",
       "      <td>49999</td>\n",
       "      <td>49999</td>\n",
       "      <td>1421</td>\n",
       "      <td>25756</td>\n",
       "      <td>12859</td>\n",
       "      <td>NaN</td>\n",
       "      <td>36993</td>\n",
       "      <td>NaN</td>\n",
       "      <td>4024</td>\n",
       "      <td>32424</td>\n",
       "      <td>NaN</td>\n",
       "      <td>30107</td>\n",
       "      <td>10687</td>\n",
       "      <td>35232</td>\n",
       "      <td>1946</td>\n",
       "      <td>NaN</td>\n",
       "      <td>NaN</td>\n",
       "      <td>8</td>\n",
       "    </tr>\n",
       "    <tr>\n",
       "      <th>mean</th>\n",
       "      <td>NaN</td>\n",
       "      <td>NaN</td>\n",
       "      <td>NaN</td>\n",
       "      <td>NaN</td>\n",
       "      <td>NaN</td>\n",
       "      <td>NaN</td>\n",
       "      <td>NaN</td>\n",
       "      <td>2005.073280</td>\n",
       "      <td>NaN</td>\n",
       "      <td>116.355920</td>\n",
       "      <td>NaN</td>\n",
       "      <td>NaN</td>\n",
       "      <td>5.723360</td>\n",
       "      <td>NaN</td>\n",
       "      <td>NaN</td>\n",
       "      <td>NaN</td>\n",
       "      <td>NaN</td>\n",
       "      <td>0.0</td>\n",
       "      <td>50813.627300</td>\n",
       "      <td>NaN</td>\n",
       "    </tr>\n",
       "    <tr>\n",
       "      <th>std</th>\n",
       "      <td>NaN</td>\n",
       "      <td>NaN</td>\n",
       "      <td>NaN</td>\n",
       "      <td>NaN</td>\n",
       "      <td>NaN</td>\n",
       "      <td>NaN</td>\n",
       "      <td>NaN</td>\n",
       "      <td>105.712813</td>\n",
       "      <td>NaN</td>\n",
       "      <td>209.216627</td>\n",
       "      <td>NaN</td>\n",
       "      <td>NaN</td>\n",
       "      <td>3.711984</td>\n",
       "      <td>NaN</td>\n",
       "      <td>NaN</td>\n",
       "      <td>NaN</td>\n",
       "      <td>NaN</td>\n",
       "      <td>0.0</td>\n",
       "      <td>25779.747957</td>\n",
       "      <td>NaN</td>\n",
       "    </tr>\n",
       "    <tr>\n",
       "      <th>min</th>\n",
       "      <td>NaN</td>\n",
       "      <td>NaN</td>\n",
       "      <td>NaN</td>\n",
       "      <td>NaN</td>\n",
       "      <td>NaN</td>\n",
       "      <td>NaN</td>\n",
       "      <td>NaN</td>\n",
       "      <td>1000.000000</td>\n",
       "      <td>NaN</td>\n",
       "      <td>0.000000</td>\n",
       "      <td>NaN</td>\n",
       "      <td>NaN</td>\n",
       "      <td>0.000000</td>\n",
       "      <td>NaN</td>\n",
       "      <td>NaN</td>\n",
       "      <td>NaN</td>\n",
       "      <td>NaN</td>\n",
       "      <td>0.0</td>\n",
       "      <td>1067.000000</td>\n",
       "      <td>NaN</td>\n",
       "    </tr>\n",
       "    <tr>\n",
       "      <th>25%</th>\n",
       "      <td>NaN</td>\n",
       "      <td>NaN</td>\n",
       "      <td>NaN</td>\n",
       "      <td>NaN</td>\n",
       "      <td>NaN</td>\n",
       "      <td>NaN</td>\n",
       "      <td>NaN</td>\n",
       "      <td>1999.000000</td>\n",
       "      <td>NaN</td>\n",
       "      <td>70.000000</td>\n",
       "      <td>NaN</td>\n",
       "      <td>NaN</td>\n",
       "      <td>3.000000</td>\n",
       "      <td>NaN</td>\n",
       "      <td>NaN</td>\n",
       "      <td>NaN</td>\n",
       "      <td>NaN</td>\n",
       "      <td>0.0</td>\n",
       "      <td>30451.000000</td>\n",
       "      <td>NaN</td>\n",
       "    </tr>\n",
       "    <tr>\n",
       "      <th>50%</th>\n",
       "      <td>NaN</td>\n",
       "      <td>NaN</td>\n",
       "      <td>NaN</td>\n",
       "      <td>NaN</td>\n",
       "      <td>NaN</td>\n",
       "      <td>NaN</td>\n",
       "      <td>NaN</td>\n",
       "      <td>2003.000000</td>\n",
       "      <td>NaN</td>\n",
       "      <td>105.000000</td>\n",
       "      <td>NaN</td>\n",
       "      <td>NaN</td>\n",
       "      <td>6.000000</td>\n",
       "      <td>NaN</td>\n",
       "      <td>NaN</td>\n",
       "      <td>NaN</td>\n",
       "      <td>NaN</td>\n",
       "      <td>0.0</td>\n",
       "      <td>49577.000000</td>\n",
       "      <td>NaN</td>\n",
       "    </tr>\n",
       "    <tr>\n",
       "      <th>75%</th>\n",
       "      <td>NaN</td>\n",
       "      <td>NaN</td>\n",
       "      <td>NaN</td>\n",
       "      <td>NaN</td>\n",
       "      <td>NaN</td>\n",
       "      <td>NaN</td>\n",
       "      <td>NaN</td>\n",
       "      <td>2008.000000</td>\n",
       "      <td>NaN</td>\n",
       "      <td>150.000000</td>\n",
       "      <td>NaN</td>\n",
       "      <td>NaN</td>\n",
       "      <td>9.000000</td>\n",
       "      <td>NaN</td>\n",
       "      <td>NaN</td>\n",
       "      <td>NaN</td>\n",
       "      <td>NaN</td>\n",
       "      <td>0.0</td>\n",
       "      <td>71540.000000</td>\n",
       "      <td>NaN</td>\n",
       "    </tr>\n",
       "    <tr>\n",
       "      <th>max</th>\n",
       "      <td>NaN</td>\n",
       "      <td>NaN</td>\n",
       "      <td>NaN</td>\n",
       "      <td>NaN</td>\n",
       "      <td>NaN</td>\n",
       "      <td>NaN</td>\n",
       "      <td>NaN</td>\n",
       "      <td>9999.000000</td>\n",
       "      <td>NaN</td>\n",
       "      <td>17700.000000</td>\n",
       "      <td>NaN</td>\n",
       "      <td>NaN</td>\n",
       "      <td>12.000000</td>\n",
       "      <td>NaN</td>\n",
       "      <td>NaN</td>\n",
       "      <td>NaN</td>\n",
       "      <td>NaN</td>\n",
       "      <td>0.0</td>\n",
       "      <td>99998.000000</td>\n",
       "      <td>NaN</td>\n",
       "    </tr>\n",
       "  </tbody>\n",
       "</table>\n",
       "</div>"
      ],
      "text/plain": [
       "               date_crawled         name  seller offer_type  price abtest  \\\n",
       "count                 50000        50000   50000      50000  50000  50000   \n",
       "unique                48213        38754       2          2   2357      2   \n",
       "top     2016-03-11 22:38:16  Ford_Fiesta  privat    Angebot     $0   test   \n",
       "freq                      3           78   49999      49999   1421  25756   \n",
       "mean                    NaN          NaN     NaN        NaN    NaN    NaN   \n",
       "std                     NaN          NaN     NaN        NaN    NaN    NaN   \n",
       "min                     NaN          NaN     NaN        NaN    NaN    NaN   \n",
       "25%                     NaN          NaN     NaN        NaN    NaN    NaN   \n",
       "50%                     NaN          NaN     NaN        NaN    NaN    NaN   \n",
       "75%                     NaN          NaN     NaN        NaN    NaN    NaN   \n",
       "max                     NaN          NaN     NaN        NaN    NaN    NaN   \n",
       "\n",
       "       vehicle_type  registration_year  gearbox     power_p_s  model  \\\n",
       "count         44905       50000.000000    47320  50000.000000  47242   \n",
       "unique            8                NaN        2           NaN    245   \n",
       "top       limousine                NaN  manuell           NaN   golf   \n",
       "freq          12859                NaN    36993           NaN   4024   \n",
       "mean            NaN        2005.073280      NaN    116.355920    NaN   \n",
       "std             NaN         105.712813      NaN    209.216627    NaN   \n",
       "min             NaN        1000.000000      NaN      0.000000    NaN   \n",
       "25%             NaN        1999.000000      NaN     70.000000    NaN   \n",
       "50%             NaN        2003.000000      NaN    105.000000    NaN   \n",
       "75%             NaN        2008.000000      NaN    150.000000    NaN   \n",
       "max             NaN        9999.000000      NaN  17700.000000    NaN   \n",
       "\n",
       "         odometer  registration_month fuel_type       brand unrepaired_damage  \\\n",
       "count       50000        50000.000000     45518       50000             40171   \n",
       "unique         13                 NaN         7          40                 2   \n",
       "top     150,000km                 NaN    benzin  volkswagen              nein   \n",
       "freq        32424                 NaN     30107       10687             35232   \n",
       "mean          NaN            5.723360       NaN         NaN               NaN   \n",
       "std           NaN            3.711984       NaN         NaN               NaN   \n",
       "min           NaN            0.000000       NaN         NaN               NaN   \n",
       "25%           NaN            3.000000       NaN         NaN               NaN   \n",
       "50%           NaN            6.000000       NaN         NaN               NaN   \n",
       "75%           NaN            9.000000       NaN         NaN               NaN   \n",
       "max           NaN           12.000000       NaN         NaN               NaN   \n",
       "\n",
       "                 ad_created  nr_of_pictures   postal_code            last_seen  \n",
       "count                 50000         50000.0  50000.000000                50000  \n",
       "unique                   76             NaN           NaN                39481  \n",
       "top     2016-04-03 00:00:00             NaN           NaN  2016-04-07 06:17:27  \n",
       "freq                   1946             NaN           NaN                    8  \n",
       "mean                    NaN             0.0  50813.627300                  NaN  \n",
       "std                     NaN             0.0  25779.747957                  NaN  \n",
       "min                     NaN             0.0   1067.000000                  NaN  \n",
       "25%                     NaN             0.0  30451.000000                  NaN  \n",
       "50%                     NaN             0.0  49577.000000                  NaN  \n",
       "75%                     NaN             0.0  71540.000000                  NaN  \n",
       "max                     NaN             0.0  99998.000000                  NaN  "
      ]
     },
     "execution_count": 7,
     "metadata": {},
     "output_type": "execute_result"
    }
   ],
   "source": [
    "autos.describe(include = 'all')"
   ]
  },
  {
   "cell_type": "code",
   "execution_count": 8,
   "metadata": {
    "collapsed": false
   },
   "outputs": [
    {
     "data": {
      "text/plain": [
       "privat        49999\n",
       "gewerblich        1\n",
       "Name: seller, dtype: int64"
      ]
     },
     "execution_count": 8,
     "metadata": {},
     "output_type": "execute_result"
    }
   ],
   "source": [
    "autos['seller' ].value_counts()"
   ]
  },
  {
   "cell_type": "code",
   "execution_count": 9,
   "metadata": {
    "collapsed": false
   },
   "outputs": [
    {
     "data": {
      "text/plain": [
       "Angebot    49999\n",
       "Gesuch         1\n",
       "Name: offer_type, dtype: int64"
      ]
     },
     "execution_count": 9,
     "metadata": {},
     "output_type": "execute_result"
    }
   ],
   "source": [
    "autos[ 'offer_type'].value_counts()"
   ]
  },
  {
   "cell_type": "code",
   "execution_count": 10,
   "metadata": {
    "collapsed": false,
    "scrolled": true
   },
   "outputs": [
    {
     "data": {
      "text/plain": [
       "14341    9999\n",
       "38076    9999\n",
       "33950    9999\n",
       "8012     9999\n",
       "6308     9996\n",
       "49910    9000\n",
       "13559    9000\n",
       "25003    8888\n",
       "8360     6200\n",
       "27618    5911\n",
       "49153    5000\n",
       "4164     5000\n",
       "24519    5000\n",
       "22799    5000\n",
       "42079    4800\n",
       "453      4500\n",
       "4549     4100\n",
       "27578    2800\n",
       "10556    1800\n",
       "32585    1800\n",
       "35238    1500\n",
       "24511    1111\n",
       "49283    1001\n",
       "22316    1000\n",
       "Name: registration_year, dtype: int64"
      ]
     },
     "execution_count": 10,
     "metadata": {},
     "output_type": "execute_result"
    }
   ],
   "source": [
    "autos.loc[(autos['registration_year']<1900) | (autos['registration_year']>2020),'registration_year'].sort_values(ascending = False)"
   ]
  },
  {
   "cell_type": "code",
   "execution_count": 11,
   "metadata": {
    "collapsed": false
   },
   "outputs": [
    {
     "data": {
      "text/plain": [
       "0    50000\n",
       "Name: nr_of_pictures, dtype: int64"
      ]
     },
     "execution_count": 11,
     "metadata": {},
     "output_type": "execute_result"
    }
   ],
   "source": [
    "autos['nr_of_pictures'].value_counts()"
   ]
  },
  {
   "cell_type": "code",
   "execution_count": 12,
   "metadata": {
    "collapsed": false
   },
   "outputs": [
    {
     "data": {
      "text/html": [
       "<div>\n",
       "<style scoped>\n",
       "    .dataframe tbody tr th:only-of-type {\n",
       "        vertical-align: middle;\n",
       "    }\n",
       "\n",
       "    .dataframe tbody tr th {\n",
       "        vertical-align: top;\n",
       "    }\n",
       "\n",
       "    .dataframe thead th {\n",
       "        text-align: right;\n",
       "    }\n",
       "</style>\n",
       "<table border=\"1\" class=\"dataframe\">\n",
       "  <thead>\n",
       "    <tr style=\"text-align: right;\">\n",
       "      <th></th>\n",
       "      <th>price</th>\n",
       "      <th>registration_year</th>\n",
       "      <th>power_p_s</th>\n",
       "      <th>odometer</th>\n",
       "      <th>registration_month</th>\n",
       "      <th>nr_of_pictures</th>\n",
       "    </tr>\n",
       "  </thead>\n",
       "  <tbody>\n",
       "    <tr>\n",
       "      <th>0</th>\n",
       "      <td>$5,000</td>\n",
       "      <td>2004</td>\n",
       "      <td>158</td>\n",
       "      <td>150,000km</td>\n",
       "      <td>3</td>\n",
       "      <td>0</td>\n",
       "    </tr>\n",
       "    <tr>\n",
       "      <th>1</th>\n",
       "      <td>$8,500</td>\n",
       "      <td>1997</td>\n",
       "      <td>286</td>\n",
       "      <td>150,000km</td>\n",
       "      <td>6</td>\n",
       "      <td>0</td>\n",
       "    </tr>\n",
       "    <tr>\n",
       "      <th>2</th>\n",
       "      <td>$8,990</td>\n",
       "      <td>2009</td>\n",
       "      <td>102</td>\n",
       "      <td>70,000km</td>\n",
       "      <td>7</td>\n",
       "      <td>0</td>\n",
       "    </tr>\n",
       "    <tr>\n",
       "      <th>3</th>\n",
       "      <td>$4,350</td>\n",
       "      <td>2007</td>\n",
       "      <td>71</td>\n",
       "      <td>70,000km</td>\n",
       "      <td>6</td>\n",
       "      <td>0</td>\n",
       "    </tr>\n",
       "    <tr>\n",
       "      <th>4</th>\n",
       "      <td>$1,350</td>\n",
       "      <td>2003</td>\n",
       "      <td>0</td>\n",
       "      <td>150,000km</td>\n",
       "      <td>7</td>\n",
       "      <td>0</td>\n",
       "    </tr>\n",
       "  </tbody>\n",
       "</table>\n",
       "</div>"
      ],
      "text/plain": [
       "    price  registration_year  power_p_s   odometer  registration_month  \\\n",
       "0  $5,000               2004        158  150,000km                   3   \n",
       "1  $8,500               1997        286  150,000km                   6   \n",
       "2  $8,990               2009        102   70,000km                   7   \n",
       "3  $4,350               2007         71   70,000km                   6   \n",
       "4  $1,350               2003          0  150,000km                   7   \n",
       "\n",
       "   nr_of_pictures  \n",
       "0               0  \n",
       "1               0  \n",
       "2               0  \n",
       "3               0  \n",
       "4               0  "
      ]
     },
     "execution_count": 12,
     "metadata": {},
     "output_type": "execute_result"
    }
   ],
   "source": [
    "autos[['price', 'registration_year', 'power_p_s', 'odometer','registration_month', 'nr_of_pictures']].head()"
   ]
  },
  {
   "cell_type": "code",
   "execution_count": 13,
   "metadata": {
    "collapsed": false,
    "scrolled": true
   },
   "outputs": [
    {
     "name": "stdout",
     "output_type": "stream",
     "text": [
      "<class 'pandas.core.frame.DataFrame'>\n",
      "RangeIndex: 50000 entries, 0 to 49999\n",
      "Data columns (total 20 columns):\n",
      "date_crawled          50000 non-null object\n",
      "name                  50000 non-null object\n",
      "seller                50000 non-null object\n",
      "offer_type            50000 non-null object\n",
      "price                 50000 non-null object\n",
      "abtest                50000 non-null object\n",
      "vehicle_type          44905 non-null object\n",
      "registration_year     50000 non-null int64\n",
      "gearbox               47320 non-null object\n",
      "power_p_s             50000 non-null int64\n",
      "model                 47242 non-null object\n",
      "odometer              50000 non-null object\n",
      "registration_month    50000 non-null int64\n",
      "fuel_type             45518 non-null object\n",
      "brand                 50000 non-null object\n",
      "unrepaired_damage     40171 non-null object\n",
      "ad_created            50000 non-null object\n",
      "nr_of_pictures        50000 non-null int64\n",
      "postal_code           50000 non-null int64\n",
      "last_seen             50000 non-null object\n",
      "dtypes: int64(5), object(15)\n",
      "memory usage: 7.6+ MB\n"
     ]
    }
   ],
   "source": [
    "autos.info()"
   ]
  },
  {
   "cell_type": "markdown",
   "metadata": {},
   "source": [
    "The examination above reveals the following issues:\n",
    "* colums with only one value that would be of no use: \n",
    "'seller', 'offer_type', 'nr_of_pictures'\n",
    "* columns, containing numeric data, stored as text: 'price', 'odometer';\n",
    "* other issues: column 'registration_year' contains years later than current year and earlier than 1900 that need to be fixed."
   ]
  },
  {
   "cell_type": "code",
   "execution_count": 14,
   "metadata": {
    "collapsed": false,
    "scrolled": true
   },
   "outputs": [
    {
     "data": {
      "text/html": [
       "<div>\n",
       "<style scoped>\n",
       "    .dataframe tbody tr th:only-of-type {\n",
       "        vertical-align: middle;\n",
       "    }\n",
       "\n",
       "    .dataframe tbody tr th {\n",
       "        vertical-align: top;\n",
       "    }\n",
       "\n",
       "    .dataframe thead th {\n",
       "        text-align: right;\n",
       "    }\n",
       "</style>\n",
       "<table border=\"1\" class=\"dataframe\">\n",
       "  <thead>\n",
       "    <tr style=\"text-align: right;\">\n",
       "      <th></th>\n",
       "      <th>price</th>\n",
       "      <th>odometer</th>\n",
       "    </tr>\n",
       "  </thead>\n",
       "  <tbody>\n",
       "    <tr>\n",
       "      <th>0</th>\n",
       "      <td>5000</td>\n",
       "      <td>150000</td>\n",
       "    </tr>\n",
       "    <tr>\n",
       "      <th>1</th>\n",
       "      <td>8500</td>\n",
       "      <td>150000</td>\n",
       "    </tr>\n",
       "    <tr>\n",
       "      <th>2</th>\n",
       "      <td>8990</td>\n",
       "      <td>70000</td>\n",
       "    </tr>\n",
       "    <tr>\n",
       "      <th>3</th>\n",
       "      <td>4350</td>\n",
       "      <td>70000</td>\n",
       "    </tr>\n",
       "    <tr>\n",
       "      <th>4</th>\n",
       "      <td>1350</td>\n",
       "      <td>150000</td>\n",
       "    </tr>\n",
       "  </tbody>\n",
       "</table>\n",
       "</div>"
      ],
      "text/plain": [
       "   price  odometer\n",
       "0   5000    150000\n",
       "1   8500    150000\n",
       "2   8990     70000\n",
       "3   4350     70000\n",
       "4   1350    150000"
      ]
     },
     "execution_count": 14,
     "metadata": {},
     "output_type": "execute_result"
    }
   ],
   "source": [
    "# replaceing non-numeric characters and converting the columns to 'int' type.\n",
    "autos['price'] = autos['price'].str.replace(\"$\",\"\") \n",
    "autos['price'] = autos['price'].str.replace(\",\",\"\").astype(int)\n",
    "autos['odometer'] = autos['odometer'].str.replace(\",\",\"\")\n",
    "autos['odometer'] = autos['odometer'].str.replace(\"km\",\"\").astype(int)\n",
    "\n",
    "autos[['price', 'odometer']].head()"
   ]
  },
  {
   "cell_type": "code",
   "execution_count": 15,
   "metadata": {
    "collapsed": false
   },
   "outputs": [
    {
     "data": {
      "text/html": [
       "<div>\n",
       "<style scoped>\n",
       "    .dataframe tbody tr th:only-of-type {\n",
       "        vertical-align: middle;\n",
       "    }\n",
       "\n",
       "    .dataframe tbody tr th {\n",
       "        vertical-align: top;\n",
       "    }\n",
       "\n",
       "    .dataframe thead th {\n",
       "        text-align: right;\n",
       "    }\n",
       "</style>\n",
       "<table border=\"1\" class=\"dataframe\">\n",
       "  <thead>\n",
       "    <tr style=\"text-align: right;\">\n",
       "      <th></th>\n",
       "      <th>price</th>\n",
       "      <th>odometer_km</th>\n",
       "    </tr>\n",
       "  </thead>\n",
       "  <tbody>\n",
       "    <tr>\n",
       "      <th>0</th>\n",
       "      <td>5000</td>\n",
       "      <td>150000</td>\n",
       "    </tr>\n",
       "    <tr>\n",
       "      <th>1</th>\n",
       "      <td>8500</td>\n",
       "      <td>150000</td>\n",
       "    </tr>\n",
       "    <tr>\n",
       "      <th>2</th>\n",
       "      <td>8990</td>\n",
       "      <td>70000</td>\n",
       "    </tr>\n",
       "    <tr>\n",
       "      <th>3</th>\n",
       "      <td>4350</td>\n",
       "      <td>70000</td>\n",
       "    </tr>\n",
       "    <tr>\n",
       "      <th>4</th>\n",
       "      <td>1350</td>\n",
       "      <td>150000</td>\n",
       "    </tr>\n",
       "  </tbody>\n",
       "</table>\n",
       "</div>"
      ],
      "text/plain": [
       "   price  odometer_km\n",
       "0   5000       150000\n",
       "1   8500       150000\n",
       "2   8990        70000\n",
       "3   4350        70000\n",
       "4   1350       150000"
      ]
     },
     "execution_count": 15,
     "metadata": {},
     "output_type": "execute_result"
    }
   ],
   "source": [
    "# Rename the 'odometer' column to keep the information\n",
    "autos.rename(columns = {'odometer': 'odometer_km'}, inplace = True)\n",
    "autos[['price', 'odometer_km']].head()"
   ]
  },
  {
   "cell_type": "markdown",
   "metadata": {},
   "source": [
    "## 4. Exploring the 'Odometer' and 'Price' Columns"
   ]
  },
  {
   "cell_type": "code",
   "execution_count": 16,
   "metadata": {
    "collapsed": false
   },
   "outputs": [
    {
     "name": "stdout",
     "output_type": "stream",
     "text": [
      "Odometer minimum =  5000\n",
      "Odometer maximum =  150000\n",
      "Price minimum =  0\n",
      "Price maximum =  99999999\n"
     ]
    }
   ],
   "source": [
    "print('Odometer minimum = ',autos['odometer_km'].min())\n",
    "print('Odometer maximum = ',autos['odometer_km'].max())\n",
    "print('Price minimum = ',autos['price'].min())\n",
    "print('Price maximum = ',autos['price'].max())"
   ]
  },
  {
   "cell_type": "markdown",
   "metadata": {},
   "source": [
    "While the 'odometer' data seems okay, 'price' data has some erroneous min and max values. Let's investigate it further."
   ]
  },
  {
   "cell_type": "code",
   "execution_count": 17,
   "metadata": {
    "collapsed": false
   },
   "outputs": [
    {
     "name": "stdout",
     "output_type": "stream",
     "text": [
      "Unique values in \"odometer_km\" column:  (13,)\n",
      "Unique values in \"price\" column:  (2357,)\n"
     ]
    }
   ],
   "source": [
    "print('Unique values in \"odometer_km\" column: ',autos['odometer_km'].unique().shape)\n",
    "print('Unique values in \"price\" column: ',autos['price'].unique().shape)"
   ]
  },
  {
   "cell_type": "code",
   "execution_count": 18,
   "metadata": {
    "collapsed": false
   },
   "outputs": [
    {
     "data": {
      "text/plain": [
       "count     50000.000000\n",
       "mean     125732.700000\n",
       "std       40042.211706\n",
       "min        5000.000000\n",
       "25%      125000.000000\n",
       "50%      150000.000000\n",
       "75%      150000.000000\n",
       "max      150000.000000\n",
       "Name: odometer_km, dtype: float64"
      ]
     },
     "execution_count": 18,
     "metadata": {},
     "output_type": "execute_result"
    }
   ],
   "source": [
    "autos['odometer_km'].describe()"
   ]
  },
  {
   "cell_type": "code",
   "execution_count": 19,
   "metadata": {
    "collapsed": false
   },
   "outputs": [
    {
     "data": {
      "text/plain": [
       "count    5.000000e+04\n",
       "mean     9.840044e+03\n",
       "std      4.811044e+05\n",
       "min      0.000000e+00\n",
       "25%      1.100000e+03\n",
       "50%      2.950000e+03\n",
       "75%      7.200000e+03\n",
       "max      1.000000e+08\n",
       "Name: price, dtype: float64"
      ]
     },
     "execution_count": 19,
     "metadata": {},
     "output_type": "execute_result"
    }
   ],
   "source": [
    "autos['price'].describe()"
   ]
  },
  {
   "cell_type": "code",
   "execution_count": 20,
   "metadata": {
    "collapsed": false
   },
   "outputs": [
    {
     "data": {
      "text/plain": [
       "150000    32424\n",
       "125000     5170\n",
       "100000     2169\n",
       "90000      1757\n",
       "80000      1436\n",
       "70000      1230\n",
       "60000      1164\n",
       "50000      1027\n",
       "5000        967\n",
       "40000       819\n",
       "30000       789\n",
       "20000       784\n",
       "10000       264\n",
       "Name: odometer_km, dtype: int64"
      ]
     },
     "execution_count": 20,
     "metadata": {},
     "output_type": "execute_result"
    }
   ],
   "source": [
    "autos['odometer_km'].value_counts()"
   ]
  },
  {
   "cell_type": "markdown",
   "metadata": {},
   "source": [
    "Inadequately high or low values in the 'price' column."
   ]
  },
  {
   "cell_type": "code",
   "execution_count": 21,
   "metadata": {
    "collapsed": false,
    "scrolled": true
   },
   "outputs": [
    {
     "data": {
      "text/plain": [
       "0      1421\n",
       "1       156\n",
       "2         3\n",
       "3         1\n",
       "5         2\n",
       "8         1\n",
       "9         1\n",
       "10        7\n",
       "11        2\n",
       "12        3\n",
       "13        2\n",
       "14        1\n",
       "15        2\n",
       "17        3\n",
       "18        1\n",
       "20        4\n",
       "25        5\n",
       "29        1\n",
       "30        7\n",
       "35        1\n",
       "40        6\n",
       "45        4\n",
       "47        1\n",
       "49        4\n",
       "50       49\n",
       "55        2\n",
       "59        1\n",
       "60        9\n",
       "65        5\n",
       "66        1\n",
       "       ... \n",
       "375       7\n",
       "378       1\n",
       "379       1\n",
       "380      29\n",
       "385       1\n",
       "388       1\n",
       "390      26\n",
       "395       2\n",
       "399      71\n",
       "400     321\n",
       "410       1\n",
       "414       1\n",
       "420       9\n",
       "425       4\n",
       "430      13\n",
       "435       1\n",
       "440       1\n",
       "444       8\n",
       "449      12\n",
       "450     265\n",
       "459       1\n",
       "460       5\n",
       "470       7\n",
       "475       4\n",
       "480      25\n",
       "485       2\n",
       "490      34\n",
       "495       4\n",
       "499      92\n",
       "500     781\n",
       "Name: price, Length: 140, dtype: int64"
      ]
     },
     "execution_count": 21,
     "metadata": {},
     "output_type": "execute_result"
    }
   ],
   "source": [
    "autos.loc[autos['price']<501,'price'].value_counts().sort_index(ascending = True)"
   ]
  },
  {
   "cell_type": "code",
   "execution_count": 22,
   "metadata": {
    "collapsed": false,
    "scrolled": true
   },
   "outputs": [
    {
     "data": {
      "text/plain": [
       "104900      1\n",
       "105000      2\n",
       "109999      1\n",
       "114400      1\n",
       "115000      1\n",
       "115991      1\n",
       "116000      1\n",
       "119500      1\n",
       "119900      1\n",
       "120000      2\n",
       "128000      1\n",
       "129000      1\n",
       "130000      1\n",
       "135000      1\n",
       "137999      1\n",
       "139997      1\n",
       "145000      1\n",
       "151990      1\n",
       "155000      1\n",
       "163500      1\n",
       "163991      1\n",
       "169000      1\n",
       "169999      1\n",
       "175000      1\n",
       "180000      1\n",
       "190000      1\n",
       "194000      1\n",
       "197000      1\n",
       "198000      1\n",
       "220000      1\n",
       "250000      1\n",
       "259000      1\n",
       "265000      1\n",
       "295000      1\n",
       "299000      1\n",
       "345000      1\n",
       "350000      1\n",
       "999990      1\n",
       "999999      2\n",
       "1234566     1\n",
       "1300000     1\n",
       "3890000     1\n",
       "10000000    1\n",
       "11111111    2\n",
       "12345678    3\n",
       "27322222    1\n",
       "99999999    1\n",
       "Name: price, dtype: int64"
      ]
     },
     "execution_count": 22,
     "metadata": {},
     "output_type": "execute_result"
    }
   ],
   "source": [
    "autos.loc[autos['price']>100000,'price'].value_counts().sort_index(ascending = True)"
   ]
  },
  {
   "cell_type": "code",
   "execution_count": 23,
   "metadata": {
    "collapsed": false,
    "scrolled": true
   },
   "outputs": [
    {
     "data": {
      "text/html": [
       "<div>\n",
       "<style scoped>\n",
       "    .dataframe tbody tr th:only-of-type {\n",
       "        vertical-align: middle;\n",
       "    }\n",
       "\n",
       "    .dataframe tbody tr th {\n",
       "        vertical-align: top;\n",
       "    }\n",
       "\n",
       "    .dataframe thead th {\n",
       "        text-align: right;\n",
       "    }\n",
       "</style>\n",
       "<table border=\"1\" class=\"dataframe\">\n",
       "  <thead>\n",
       "    <tr style=\"text-align: right;\">\n",
       "      <th></th>\n",
       "      <th>price</th>\n",
       "      <th>name</th>\n",
       "      <th>registration_year</th>\n",
       "      <th>vehicle_type</th>\n",
       "    </tr>\n",
       "  </thead>\n",
       "  <tbody>\n",
       "    <tr>\n",
       "      <th>29286</th>\n",
       "      <td>104900</td>\n",
       "      <td>Porsche_911_Turbo_PDK__Sport_Chrono_Garantie_D...</td>\n",
       "      <td>2011</td>\n",
       "      <td>coupe</td>\n",
       "    </tr>\n",
       "    <tr>\n",
       "      <th>17540</th>\n",
       "      <td>105000</td>\n",
       "      <td>Porsche_930_Turbo_classic_analytics_Gutachten_2+</td>\n",
       "      <td>1988</td>\n",
       "      <td>coupe</td>\n",
       "    </tr>\n",
       "    <tr>\n",
       "      <th>16964</th>\n",
       "      <td>105000</td>\n",
       "      <td>Bentley_Continental_Supersports</td>\n",
       "      <td>2010</td>\n",
       "      <td>coupe</td>\n",
       "    </tr>\n",
       "    <tr>\n",
       "      <th>49391</th>\n",
       "      <td>109999</td>\n",
       "      <td>Lamborghini_Gallardo_LP560_4_E_Gear_\"Callisto_...</td>\n",
       "      <td>2008</td>\n",
       "      <td>coupe</td>\n",
       "    </tr>\n",
       "    <tr>\n",
       "      <th>22060</th>\n",
       "      <td>114400</td>\n",
       "      <td>Tesla_Model_X90D_Autopilot_Leder_AHK_Kaltwette...</td>\n",
       "      <td>2016</td>\n",
       "      <td>suv</td>\n",
       "    </tr>\n",
       "    <tr>\n",
       "      <th>7402</th>\n",
       "      <td>115000</td>\n",
       "      <td>Porsche_911_Carrera_4S_Cabrio_PDK__BOSE__NEU__...</td>\n",
       "      <td>2016</td>\n",
       "      <td>cabrio</td>\n",
       "    </tr>\n",
       "    <tr>\n",
       "      <th>21783</th>\n",
       "      <td>115991</td>\n",
       "      <td>Porsche_911_Carrera_4S_Cabriolet_PDK</td>\n",
       "      <td>2013</td>\n",
       "      <td>cabrio</td>\n",
       "    </tr>\n",
       "    <tr>\n",
       "      <th>33884</th>\n",
       "      <td>116000</td>\n",
       "      <td>Porsche_911_Carrera_4S_Cabriolet_PDK</td>\n",
       "      <td>2013</td>\n",
       "      <td>cabrio</td>\n",
       "    </tr>\n",
       "    <tr>\n",
       "      <th>38814</th>\n",
       "      <td>119500</td>\n",
       "      <td>Porsche_Porsche_964_TURBO_S_X33_WLS_ab_Werk_35...</td>\n",
       "      <td>1992</td>\n",
       "      <td>coupe</td>\n",
       "    </tr>\n",
       "    <tr>\n",
       "      <th>43282</th>\n",
       "      <td>119900</td>\n",
       "      <td>Porsche_911_Carrera_4S_Cabriolet_PDK</td>\n",
       "      <td>2014</td>\n",
       "      <td>cabrio</td>\n",
       "    </tr>\n",
       "    <tr>\n",
       "      <th>2751</th>\n",
       "      <td>120000</td>\n",
       "      <td>Porsche_911___993_4S</td>\n",
       "      <td>1998</td>\n",
       "      <td>coupe</td>\n",
       "    </tr>\n",
       "    <tr>\n",
       "      <th>44406</th>\n",
       "      <td>120000</td>\n",
       "      <td>Mercedes_Benz_170_S_Cabriolet_A__Startklar_fue...</td>\n",
       "      <td>1951</td>\n",
       "      <td>cabrio</td>\n",
       "    </tr>\n",
       "    <tr>\n",
       "      <th>8232</th>\n",
       "      <td>128000</td>\n",
       "      <td>Porsche_993_S_Schalter_BRD_neuwertig</td>\n",
       "      <td>1997</td>\n",
       "      <td>coupe</td>\n",
       "    </tr>\n",
       "    <tr>\n",
       "      <th>1878</th>\n",
       "      <td>129000</td>\n",
       "      <td>Porsche_911_Turbo</td>\n",
       "      <td>1995</td>\n",
       "      <td>coupe</td>\n",
       "    </tr>\n",
       "    <tr>\n",
       "      <th>49815</th>\n",
       "      <td>130000</td>\n",
       "      <td>SUCHE_TIPPS___Ford_Mustang_Shelby_GT_350_500_K...</td>\n",
       "      <td>1968</td>\n",
       "      <td>coupe</td>\n",
       "    </tr>\n",
       "    <tr>\n",
       "      <th>14268</th>\n",
       "      <td>135000</td>\n",
       "      <td>Porsche_997_GT3_Approved_Lift_Unfallfrei_Mj.2011</td>\n",
       "      <td>2010</td>\n",
       "      <td>coupe</td>\n",
       "    </tr>\n",
       "    <tr>\n",
       "      <th>2454</th>\n",
       "      <td>137999</td>\n",
       "      <td>Porsche_911_GT3</td>\n",
       "      <td>2010</td>\n",
       "      <td>coupe</td>\n",
       "    </tr>\n",
       "    <tr>\n",
       "      <th>32185</th>\n",
       "      <td>139997</td>\n",
       "      <td>Porsche_997_GT3_MKII_EIN_SAMMLERSTÜCK_IN_VOLLA...</td>\n",
       "      <td>2010</td>\n",
       "      <td>coupe</td>\n",
       "    </tr>\n",
       "    <tr>\n",
       "      <th>49668</th>\n",
       "      <td>145000</td>\n",
       "      <td>Porsche_911__993__Carrera_S_\"SONDERMODELL\"</td>\n",
       "      <td>1998</td>\n",
       "      <td>coupe</td>\n",
       "    </tr>\n",
       "    <tr>\n",
       "      <th>33638</th>\n",
       "      <td>151990</td>\n",
       "      <td>Porsche_911_GT3_RS</td>\n",
       "      <td>2007</td>\n",
       "      <td>coupe</td>\n",
       "    </tr>\n",
       "    <tr>\n",
       "      <th>10500</th>\n",
       "      <td>155000</td>\n",
       "      <td>Porsche_991</td>\n",
       "      <td>2013</td>\n",
       "      <td>coupe</td>\n",
       "    </tr>\n",
       "    <tr>\n",
       "      <th>45387</th>\n",
       "      <td>163500</td>\n",
       "      <td>Porsche_911_GT3__Clubsp._Lift_nur_bis_25.03._v...</td>\n",
       "      <td>2015</td>\n",
       "      <td>coupe</td>\n",
       "    </tr>\n",
       "    <tr>\n",
       "      <th>22673</th>\n",
       "      <td>163991</td>\n",
       "      <td>Porsche_911_991_GT3_LED_Licht_Chrono_Navi_Club...</td>\n",
       "      <td>2014</td>\n",
       "      <td>coupe</td>\n",
       "    </tr>\n",
       "    <tr>\n",
       "      <th>18509</th>\n",
       "      <td>169000</td>\n",
       "      <td>Porsche_991_GT3</td>\n",
       "      <td>2013</td>\n",
       "      <td>coupe</td>\n",
       "    </tr>\n",
       "    <tr>\n",
       "      <th>32840</th>\n",
       "      <td>169999</td>\n",
       "      <td>Mercedes_Benz_G_500_7G_TRONIC_Cabrio_Desingno_...</td>\n",
       "      <td>2012</td>\n",
       "      <td>cabrio</td>\n",
       "    </tr>\n",
       "    <tr>\n",
       "      <th>11433</th>\n",
       "      <td>175000</td>\n",
       "      <td>Audi_R8_V10_plus_5.2_FSI_quattro_S_tronic_Akra...</td>\n",
       "      <td>2016</td>\n",
       "      <td>coupe</td>\n",
       "    </tr>\n",
       "    <tr>\n",
       "      <th>17140</th>\n",
       "      <td>180000</td>\n",
       "      <td>Mercedes_Benz_SLS_AMG_Roadster_AMG_SPEEDSHIFT_DCT</td>\n",
       "      <td>2012</td>\n",
       "      <td>cabrio</td>\n",
       "    </tr>\n",
       "    <tr>\n",
       "      <th>20351</th>\n",
       "      <td>190000</td>\n",
       "      <td>BMW_Z8_roadster</td>\n",
       "      <td>2000</td>\n",
       "      <td>cabrio</td>\n",
       "    </tr>\n",
       "    <tr>\n",
       "      <th>28090</th>\n",
       "      <td>194000</td>\n",
       "      <td>Tesla_Model_X_P90D_Signature_Sondermodel__Neuw...</td>\n",
       "      <td>2016</td>\n",
       "      <td>suv</td>\n",
       "    </tr>\n",
       "    <tr>\n",
       "      <th>43668</th>\n",
       "      <td>197000</td>\n",
       "      <td>Porsche_993/911_Turbo_WLS_II_Exclusive_S_deuts...</td>\n",
       "      <td>1998</td>\n",
       "      <td>coupe</td>\n",
       "    </tr>\n",
       "    <tr>\n",
       "      <th>40918</th>\n",
       "      <td>198000</td>\n",
       "      <td>Porsche_911_991_GT3_RS</td>\n",
       "      <td>2015</td>\n",
       "      <td>coupe</td>\n",
       "    </tr>\n",
       "    <tr>\n",
       "      <th>37840</th>\n",
       "      <td>220000</td>\n",
       "      <td>Porsche_997</td>\n",
       "      <td>2008</td>\n",
       "      <td>coupe</td>\n",
       "    </tr>\n",
       "    <tr>\n",
       "      <th>38299</th>\n",
       "      <td>250000</td>\n",
       "      <td>Glas_BMW_mit_Wasser</td>\n",
       "      <td>2015</td>\n",
       "      <td>NaN</td>\n",
       "    </tr>\n",
       "    <tr>\n",
       "      <th>47337</th>\n",
       "      <td>259000</td>\n",
       "      <td>BMW_Z8_roadster</td>\n",
       "      <td>2001</td>\n",
       "      <td>cabrio</td>\n",
       "    </tr>\n",
       "    <tr>\n",
       "      <th>12682</th>\n",
       "      <td>265000</td>\n",
       "      <td>Porsche_GT3_RS__PCCB__Lift___grosser_Exklusiv_...</td>\n",
       "      <td>2016</td>\n",
       "      <td>coupe</td>\n",
       "    </tr>\n",
       "    <tr>\n",
       "      <th>35923</th>\n",
       "      <td>295000</td>\n",
       "      <td>Porsche_911_Targa_Exclusive_Edition__1_von_15_...</td>\n",
       "      <td>2015</td>\n",
       "      <td>cabrio</td>\n",
       "    </tr>\n",
       "    <tr>\n",
       "      <th>34723</th>\n",
       "      <td>299000</td>\n",
       "      <td>Porsche_Porsche_911/930_Turbo_3.0__deutsche_Au...</td>\n",
       "      <td>1977</td>\n",
       "      <td>coupe</td>\n",
       "    </tr>\n",
       "    <tr>\n",
       "      <th>14715</th>\n",
       "      <td>345000</td>\n",
       "      <td>Rolls_Royce_Phantom_Drophead_Coupe</td>\n",
       "      <td>2012</td>\n",
       "      <td>cabrio</td>\n",
       "    </tr>\n",
       "    <tr>\n",
       "      <th>36818</th>\n",
       "      <td>350000</td>\n",
       "      <td>Porsche_991</td>\n",
       "      <td>2016</td>\n",
       "      <td>coupe</td>\n",
       "    </tr>\n",
       "    <tr>\n",
       "      <th>37585</th>\n",
       "      <td>999990</td>\n",
       "      <td>Volkswagen_Jetta_GT</td>\n",
       "      <td>1985</td>\n",
       "      <td>limousine</td>\n",
       "    </tr>\n",
       "    <tr>\n",
       "      <th>43049</th>\n",
       "      <td>999999</td>\n",
       "      <td>2_VW_Busse_T3</td>\n",
       "      <td>1981</td>\n",
       "      <td>bus</td>\n",
       "    </tr>\n",
       "    <tr>\n",
       "      <th>514</th>\n",
       "      <td>999999</td>\n",
       "      <td>Ford_Focus_Turnier_1.6_16V_Style</td>\n",
       "      <td>2009</td>\n",
       "      <td>kombi</td>\n",
       "    </tr>\n",
       "    <tr>\n",
       "      <th>22947</th>\n",
       "      <td>1234566</td>\n",
       "      <td>Bmw_530d_zum_ausschlachten</td>\n",
       "      <td>1999</td>\n",
       "      <td>kombi</td>\n",
       "    </tr>\n",
       "    <tr>\n",
       "      <th>7814</th>\n",
       "      <td>1300000</td>\n",
       "      <td>Ferrari_F40</td>\n",
       "      <td>1992</td>\n",
       "      <td>coupe</td>\n",
       "    </tr>\n",
       "    <tr>\n",
       "      <th>47634</th>\n",
       "      <td>3890000</td>\n",
       "      <td>Ferrari_FXX</td>\n",
       "      <td>2006</td>\n",
       "      <td>coupe</td>\n",
       "    </tr>\n",
       "    <tr>\n",
       "      <th>11137</th>\n",
       "      <td>10000000</td>\n",
       "      <td>suche_maserati_3200_gt_Zustand_unwichtig_laufe...</td>\n",
       "      <td>1960</td>\n",
       "      <td>coupe</td>\n",
       "    </tr>\n",
       "    <tr>\n",
       "      <th>2897</th>\n",
       "      <td>11111111</td>\n",
       "      <td>Escort_MK_1_Hundeknochen_zum_umbauen_auf_RS_2000</td>\n",
       "      <td>1973</td>\n",
       "      <td>limousine</td>\n",
       "    </tr>\n",
       "    <tr>\n",
       "      <th>24384</th>\n",
       "      <td>11111111</td>\n",
       "      <td>Schlachte_Golf_3_gt_tdi</td>\n",
       "      <td>1995</td>\n",
       "      <td>NaN</td>\n",
       "    </tr>\n",
       "    <tr>\n",
       "      <th>27371</th>\n",
       "      <td>12345678</td>\n",
       "      <td>Fiat_Punto</td>\n",
       "      <td>2017</td>\n",
       "      <td>NaN</td>\n",
       "    </tr>\n",
       "    <tr>\n",
       "      <th>47598</th>\n",
       "      <td>12345678</td>\n",
       "      <td>Opel_Vectra_B_1_6i_16V_Facelift_Tuning_Showcar...</td>\n",
       "      <td>2001</td>\n",
       "      <td>limousine</td>\n",
       "    </tr>\n",
       "    <tr>\n",
       "      <th>39377</th>\n",
       "      <td>12345678</td>\n",
       "      <td>Tausche_volvo_v40_gegen_van</td>\n",
       "      <td>2018</td>\n",
       "      <td>NaN</td>\n",
       "    </tr>\n",
       "    <tr>\n",
       "      <th>42221</th>\n",
       "      <td>27322222</td>\n",
       "      <td>Leasinguebernahme</td>\n",
       "      <td>2014</td>\n",
       "      <td>limousine</td>\n",
       "    </tr>\n",
       "    <tr>\n",
       "      <th>39705</th>\n",
       "      <td>99999999</td>\n",
       "      <td>Tausch_gegen_gleichwertiges</td>\n",
       "      <td>1999</td>\n",
       "      <td>limousine</td>\n",
       "    </tr>\n",
       "  </tbody>\n",
       "</table>\n",
       "</div>"
      ],
      "text/plain": [
       "          price                                               name  \\\n",
       "29286    104900  Porsche_911_Turbo_PDK__Sport_Chrono_Garantie_D...   \n",
       "17540    105000   Porsche_930_Turbo_classic_analytics_Gutachten_2+   \n",
       "16964    105000                    Bentley_Continental_Supersports   \n",
       "49391    109999  Lamborghini_Gallardo_LP560_4_E_Gear_\"Callisto_...   \n",
       "22060    114400  Tesla_Model_X90D_Autopilot_Leder_AHK_Kaltwette...   \n",
       "7402     115000  Porsche_911_Carrera_4S_Cabrio_PDK__BOSE__NEU__...   \n",
       "21783    115991               Porsche_911_Carrera_4S_Cabriolet_PDK   \n",
       "33884    116000               Porsche_911_Carrera_4S_Cabriolet_PDK   \n",
       "38814    119500  Porsche_Porsche_964_TURBO_S_X33_WLS_ab_Werk_35...   \n",
       "43282    119900               Porsche_911_Carrera_4S_Cabriolet_PDK   \n",
       "2751     120000                               Porsche_911___993_4S   \n",
       "44406    120000  Mercedes_Benz_170_S_Cabriolet_A__Startklar_fue...   \n",
       "8232     128000               Porsche_993_S_Schalter_BRD_neuwertig   \n",
       "1878     129000                                  Porsche_911_Turbo   \n",
       "49815    130000  SUCHE_TIPPS___Ford_Mustang_Shelby_GT_350_500_K...   \n",
       "14268    135000   Porsche_997_GT3_Approved_Lift_Unfallfrei_Mj.2011   \n",
       "2454     137999                                    Porsche_911_GT3   \n",
       "32185    139997  Porsche_997_GT3_MKII_EIN_SAMMLERSTÜCK_IN_VOLLA...   \n",
       "49668    145000         Porsche_911__993__Carrera_S_\"SONDERMODELL\"   \n",
       "33638    151990                                 Porsche_911_GT3_RS   \n",
       "10500    155000                                        Porsche_991   \n",
       "45387    163500  Porsche_911_GT3__Clubsp._Lift_nur_bis_25.03._v...   \n",
       "22673    163991  Porsche_911_991_GT3_LED_Licht_Chrono_Navi_Club...   \n",
       "18509    169000                                    Porsche_991_GT3   \n",
       "32840    169999  Mercedes_Benz_G_500_7G_TRONIC_Cabrio_Desingno_...   \n",
       "11433    175000  Audi_R8_V10_plus_5.2_FSI_quattro_S_tronic_Akra...   \n",
       "17140    180000  Mercedes_Benz_SLS_AMG_Roadster_AMG_SPEEDSHIFT_DCT   \n",
       "20351    190000                                    BMW_Z8_roadster   \n",
       "28090    194000  Tesla_Model_X_P90D_Signature_Sondermodel__Neuw...   \n",
       "43668    197000  Porsche_993/911_Turbo_WLS_II_Exclusive_S_deuts...   \n",
       "40918    198000                             Porsche_911_991_GT3_RS   \n",
       "37840    220000                                        Porsche_997   \n",
       "38299    250000                                Glas_BMW_mit_Wasser   \n",
       "47337    259000                                    BMW_Z8_roadster   \n",
       "12682    265000  Porsche_GT3_RS__PCCB__Lift___grosser_Exklusiv_...   \n",
       "35923    295000  Porsche_911_Targa_Exclusive_Edition__1_von_15_...   \n",
       "34723    299000  Porsche_Porsche_911/930_Turbo_3.0__deutsche_Au...   \n",
       "14715    345000                 Rolls_Royce_Phantom_Drophead_Coupe   \n",
       "36818    350000                                        Porsche_991   \n",
       "37585    999990                                Volkswagen_Jetta_GT   \n",
       "43049    999999                                      2_VW_Busse_T3   \n",
       "514      999999                   Ford_Focus_Turnier_1.6_16V_Style   \n",
       "22947   1234566                         Bmw_530d_zum_ausschlachten   \n",
       "7814    1300000                                        Ferrari_F40   \n",
       "47634   3890000                                        Ferrari_FXX   \n",
       "11137  10000000  suche_maserati_3200_gt_Zustand_unwichtig_laufe...   \n",
       "2897   11111111   Escort_MK_1_Hundeknochen_zum_umbauen_auf_RS_2000   \n",
       "24384  11111111                            Schlachte_Golf_3_gt_tdi   \n",
       "27371  12345678                                         Fiat_Punto   \n",
       "47598  12345678  Opel_Vectra_B_1_6i_16V_Facelift_Tuning_Showcar...   \n",
       "39377  12345678                        Tausche_volvo_v40_gegen_van   \n",
       "42221  27322222                                  Leasinguebernahme   \n",
       "39705  99999999                        Tausch_gegen_gleichwertiges   \n",
       "\n",
       "       registration_year vehicle_type  \n",
       "29286               2011        coupe  \n",
       "17540               1988        coupe  \n",
       "16964               2010        coupe  \n",
       "49391               2008        coupe  \n",
       "22060               2016          suv  \n",
       "7402                2016       cabrio  \n",
       "21783               2013       cabrio  \n",
       "33884               2013       cabrio  \n",
       "38814               1992        coupe  \n",
       "43282               2014       cabrio  \n",
       "2751                1998        coupe  \n",
       "44406               1951       cabrio  \n",
       "8232                1997        coupe  \n",
       "1878                1995        coupe  \n",
       "49815               1968        coupe  \n",
       "14268               2010        coupe  \n",
       "2454                2010        coupe  \n",
       "32185               2010        coupe  \n",
       "49668               1998        coupe  \n",
       "33638               2007        coupe  \n",
       "10500               2013        coupe  \n",
       "45387               2015        coupe  \n",
       "22673               2014        coupe  \n",
       "18509               2013        coupe  \n",
       "32840               2012       cabrio  \n",
       "11433               2016        coupe  \n",
       "17140               2012       cabrio  \n",
       "20351               2000       cabrio  \n",
       "28090               2016          suv  \n",
       "43668               1998        coupe  \n",
       "40918               2015        coupe  \n",
       "37840               2008        coupe  \n",
       "38299               2015          NaN  \n",
       "47337               2001       cabrio  \n",
       "12682               2016        coupe  \n",
       "35923               2015       cabrio  \n",
       "34723               1977        coupe  \n",
       "14715               2012       cabrio  \n",
       "36818               2016        coupe  \n",
       "37585               1985    limousine  \n",
       "43049               1981          bus  \n",
       "514                 2009        kombi  \n",
       "22947               1999        kombi  \n",
       "7814                1992        coupe  \n",
       "47634               2006        coupe  \n",
       "11137               1960        coupe  \n",
       "2897                1973    limousine  \n",
       "24384               1995          NaN  \n",
       "27371               2017          NaN  \n",
       "47598               2001    limousine  \n",
       "39377               2018          NaN  \n",
       "42221               2014    limousine  \n",
       "39705               1999    limousine  "
      ]
     },
     "execution_count": 23,
     "metadata": {},
     "output_type": "execute_result"
    }
   ],
   "source": [
    "autos.loc[autos['price']>100000,['price', 'name', 'registration_year', 'vehicle_type']].sort_values('price')"
   ]
  },
  {
   "cell_type": "markdown",
   "metadata": {},
   "source": [
    "We can conclude that data enrties containing prices below 399 and above 350000 can be removed"
   ]
  },
  {
   "cell_type": "code",
   "execution_count": 24,
   "metadata": {
    "collapsed": false
   },
   "outputs": [
    {
     "data": {
      "text/html": [
       "<div>\n",
       "<style scoped>\n",
       "    .dataframe tbody tr th:only-of-type {\n",
       "        vertical-align: middle;\n",
       "    }\n",
       "\n",
       "    .dataframe tbody tr th {\n",
       "        vertical-align: top;\n",
       "    }\n",
       "\n",
       "    .dataframe thead th {\n",
       "        text-align: right;\n",
       "    }\n",
       "</style>\n",
       "<table border=\"1\" class=\"dataframe\">\n",
       "  <thead>\n",
       "    <tr style=\"text-align: right;\">\n",
       "      <th></th>\n",
       "      <th>date_crawled</th>\n",
       "      <th>name</th>\n",
       "      <th>seller</th>\n",
       "      <th>offer_type</th>\n",
       "      <th>price</th>\n",
       "      <th>abtest</th>\n",
       "      <th>vehicle_type</th>\n",
       "      <th>registration_year</th>\n",
       "      <th>gearbox</th>\n",
       "      <th>power_p_s</th>\n",
       "      <th>model</th>\n",
       "      <th>odometer_km</th>\n",
       "      <th>registration_month</th>\n",
       "      <th>fuel_type</th>\n",
       "      <th>brand</th>\n",
       "      <th>unrepaired_damage</th>\n",
       "      <th>ad_created</th>\n",
       "      <th>nr_of_pictures</th>\n",
       "      <th>postal_code</th>\n",
       "      <th>last_seen</th>\n",
       "    </tr>\n",
       "  </thead>\n",
       "  <tbody>\n",
       "    <tr>\n",
       "      <th>5179</th>\n",
       "      <td>2016-03-14 00:48:15</td>\n",
       "      <td>Fiat_Punto_60_Selecta_SX</td>\n",
       "      <td>privat</td>\n",
       "      <td>Angebot</td>\n",
       "      <td>399</td>\n",
       "      <td>control</td>\n",
       "      <td>kleinwagen</td>\n",
       "      <td>1997</td>\n",
       "      <td>manuell</td>\n",
       "      <td>60</td>\n",
       "      <td>punto</td>\n",
       "      <td>150000</td>\n",
       "      <td>5</td>\n",
       "      <td>benzin</td>\n",
       "      <td>fiat</td>\n",
       "      <td>nein</td>\n",
       "      <td>2016-03-13 00:00:00</td>\n",
       "      <td>0</td>\n",
       "      <td>53117</td>\n",
       "      <td>2016-04-07 03:16:34</td>\n",
       "    </tr>\n",
       "    <tr>\n",
       "      <th>6263</th>\n",
       "      <td>2016-03-30 11:52:01</td>\n",
       "      <td>BMW_316i_LEDER_UND_KLIMA_BITTE_KEINE_MAILS</td>\n",
       "      <td>privat</td>\n",
       "      <td>Angebot</td>\n",
       "      <td>399</td>\n",
       "      <td>test</td>\n",
       "      <td>kleinwagen</td>\n",
       "      <td>1998</td>\n",
       "      <td>manuell</td>\n",
       "      <td>102</td>\n",
       "      <td>3er</td>\n",
       "      <td>150000</td>\n",
       "      <td>12</td>\n",
       "      <td>benzin</td>\n",
       "      <td>bmw</td>\n",
       "      <td>nein</td>\n",
       "      <td>2016-03-30 00:00:00</td>\n",
       "      <td>0</td>\n",
       "      <td>10827</td>\n",
       "      <td>2016-04-03 01:21:43</td>\n",
       "    </tr>\n",
       "    <tr>\n",
       "      <th>45964</th>\n",
       "      <td>2016-04-05 11:57:35</td>\n",
       "      <td>Corsa_opel</td>\n",
       "      <td>privat</td>\n",
       "      <td>Angebot</td>\n",
       "      <td>399</td>\n",
       "      <td>test</td>\n",
       "      <td>NaN</td>\n",
       "      <td>2000</td>\n",
       "      <td>NaN</td>\n",
       "      <td>0</td>\n",
       "      <td>corsa</td>\n",
       "      <td>150000</td>\n",
       "      <td>3</td>\n",
       "      <td>NaN</td>\n",
       "      <td>opel</td>\n",
       "      <td>NaN</td>\n",
       "      <td>2016-04-05 00:00:00</td>\n",
       "      <td>0</td>\n",
       "      <td>33334</td>\n",
       "      <td>2016-04-05 12:39:37</td>\n",
       "    </tr>\n",
       "    <tr>\n",
       "      <th>12965</th>\n",
       "      <td>2016-03-29 01:55:57</td>\n",
       "      <td>Opel_Astra_Kombi_mit_AHK</td>\n",
       "      <td>privat</td>\n",
       "      <td>Angebot</td>\n",
       "      <td>399</td>\n",
       "      <td>control</td>\n",
       "      <td>kombi</td>\n",
       "      <td>1998</td>\n",
       "      <td>automatik</td>\n",
       "      <td>101</td>\n",
       "      <td>astra</td>\n",
       "      <td>150000</td>\n",
       "      <td>3</td>\n",
       "      <td>benzin</td>\n",
       "      <td>opel</td>\n",
       "      <td>ja</td>\n",
       "      <td>2016-03-29 00:00:00</td>\n",
       "      <td>0</td>\n",
       "      <td>36304</td>\n",
       "      <td>2016-04-05 17:26:08</td>\n",
       "    </tr>\n",
       "    <tr>\n",
       "      <th>42442</th>\n",
       "      <td>2016-03-30 15:50:26</td>\n",
       "      <td>Fiat_Punto</td>\n",
       "      <td>privat</td>\n",
       "      <td>Angebot</td>\n",
       "      <td>399</td>\n",
       "      <td>test</td>\n",
       "      <td>kleinwagen</td>\n",
       "      <td>1997</td>\n",
       "      <td>manuell</td>\n",
       "      <td>50</td>\n",
       "      <td>punto</td>\n",
       "      <td>150000</td>\n",
       "      <td>11</td>\n",
       "      <td>benzin</td>\n",
       "      <td>fiat</td>\n",
       "      <td>NaN</td>\n",
       "      <td>2016-03-30 00:00:00</td>\n",
       "      <td>0</td>\n",
       "      <td>48369</td>\n",
       "      <td>2016-04-07 06:44:43</td>\n",
       "    </tr>\n",
       "  </tbody>\n",
       "</table>\n",
       "</div>"
      ],
      "text/plain": [
       "              date_crawled                                        name  \\\n",
       "5179   2016-03-14 00:48:15                    Fiat_Punto_60_Selecta_SX   \n",
       "6263   2016-03-30 11:52:01  BMW_316i_LEDER_UND_KLIMA_BITTE_KEINE_MAILS   \n",
       "45964  2016-04-05 11:57:35                                  Corsa_opel   \n",
       "12965  2016-03-29 01:55:57                    Opel_Astra_Kombi_mit_AHK   \n",
       "42442  2016-03-30 15:50:26                                  Fiat_Punto   \n",
       "\n",
       "       seller offer_type  price   abtest vehicle_type  registration_year  \\\n",
       "5179   privat    Angebot    399  control   kleinwagen               1997   \n",
       "6263   privat    Angebot    399     test   kleinwagen               1998   \n",
       "45964  privat    Angebot    399     test          NaN               2000   \n",
       "12965  privat    Angebot    399  control        kombi               1998   \n",
       "42442  privat    Angebot    399     test   kleinwagen               1997   \n",
       "\n",
       "         gearbox  power_p_s  model  odometer_km  registration_month fuel_type  \\\n",
       "5179     manuell         60  punto       150000                   5    benzin   \n",
       "6263     manuell        102    3er       150000                  12    benzin   \n",
       "45964        NaN          0  corsa       150000                   3       NaN   \n",
       "12965  automatik        101  astra       150000                   3    benzin   \n",
       "42442    manuell         50  punto       150000                  11    benzin   \n",
       "\n",
       "      brand unrepaired_damage           ad_created  nr_of_pictures  \\\n",
       "5179   fiat              nein  2016-03-13 00:00:00               0   \n",
       "6263    bmw              nein  2016-03-30 00:00:00               0   \n",
       "45964  opel               NaN  2016-04-05 00:00:00               0   \n",
       "12965  opel                ja  2016-03-29 00:00:00               0   \n",
       "42442  fiat               NaN  2016-03-30 00:00:00               0   \n",
       "\n",
       "       postal_code            last_seen  \n",
       "5179         53117  2016-04-07 03:16:34  \n",
       "6263         10827  2016-04-03 01:21:43  \n",
       "45964        33334  2016-04-05 12:39:37  \n",
       "12965        36304  2016-04-05 17:26:08  \n",
       "42442        48369  2016-04-07 06:44:43  "
      ]
     },
     "execution_count": 24,
     "metadata": {},
     "output_type": "execute_result"
    }
   ],
   "source": [
    "autos = autos[autos['price'].between(399,351000)]\n",
    "autos.sort_values('price').head()"
   ]
  },
  {
   "cell_type": "code",
   "execution_count": 25,
   "metadata": {
    "collapsed": false
   },
   "outputs": [
    {
     "data": {
      "text/html": [
       "<div>\n",
       "<style scoped>\n",
       "    .dataframe tbody tr th:only-of-type {\n",
       "        vertical-align: middle;\n",
       "    }\n",
       "\n",
       "    .dataframe tbody tr th {\n",
       "        vertical-align: top;\n",
       "    }\n",
       "\n",
       "    .dataframe thead th {\n",
       "        text-align: right;\n",
       "    }\n",
       "</style>\n",
       "<table border=\"1\" class=\"dataframe\">\n",
       "  <thead>\n",
       "    <tr style=\"text-align: right;\">\n",
       "      <th></th>\n",
       "      <th>date_crawled</th>\n",
       "      <th>name</th>\n",
       "      <th>seller</th>\n",
       "      <th>offer_type</th>\n",
       "      <th>price</th>\n",
       "      <th>abtest</th>\n",
       "      <th>vehicle_type</th>\n",
       "      <th>registration_year</th>\n",
       "      <th>gearbox</th>\n",
       "      <th>power_p_s</th>\n",
       "      <th>model</th>\n",
       "      <th>odometer_km</th>\n",
       "      <th>registration_month</th>\n",
       "      <th>fuel_type</th>\n",
       "      <th>brand</th>\n",
       "      <th>unrepaired_damage</th>\n",
       "      <th>ad_created</th>\n",
       "      <th>nr_of_pictures</th>\n",
       "      <th>postal_code</th>\n",
       "      <th>last_seen</th>\n",
       "    </tr>\n",
       "  </thead>\n",
       "  <tbody>\n",
       "    <tr>\n",
       "      <th>36818</th>\n",
       "      <td>2016-03-27 18:37:37</td>\n",
       "      <td>Porsche_991</td>\n",
       "      <td>privat</td>\n",
       "      <td>Angebot</td>\n",
       "      <td>350000</td>\n",
       "      <td>control</td>\n",
       "      <td>coupe</td>\n",
       "      <td>2016</td>\n",
       "      <td>manuell</td>\n",
       "      <td>500</td>\n",
       "      <td>911</td>\n",
       "      <td>5000</td>\n",
       "      <td>3</td>\n",
       "      <td>benzin</td>\n",
       "      <td>porsche</td>\n",
       "      <td>nein</td>\n",
       "      <td>2016-03-27 00:00:00</td>\n",
       "      <td>0</td>\n",
       "      <td>70499</td>\n",
       "      <td>2016-03-27 18:37:37</td>\n",
       "    </tr>\n",
       "    <tr>\n",
       "      <th>14715</th>\n",
       "      <td>2016-03-30 08:37:24</td>\n",
       "      <td>Rolls_Royce_Phantom_Drophead_Coupe</td>\n",
       "      <td>privat</td>\n",
       "      <td>Angebot</td>\n",
       "      <td>345000</td>\n",
       "      <td>control</td>\n",
       "      <td>cabrio</td>\n",
       "      <td>2012</td>\n",
       "      <td>automatik</td>\n",
       "      <td>460</td>\n",
       "      <td>NaN</td>\n",
       "      <td>20000</td>\n",
       "      <td>8</td>\n",
       "      <td>benzin</td>\n",
       "      <td>sonstige_autos</td>\n",
       "      <td>nein</td>\n",
       "      <td>2016-03-30 00:00:00</td>\n",
       "      <td>0</td>\n",
       "      <td>73525</td>\n",
       "      <td>2016-04-07 00:16:26</td>\n",
       "    </tr>\n",
       "    <tr>\n",
       "      <th>34723</th>\n",
       "      <td>2016-03-23 16:37:29</td>\n",
       "      <td>Porsche_Porsche_911/930_Turbo_3.0__deutsche_Au...</td>\n",
       "      <td>privat</td>\n",
       "      <td>Angebot</td>\n",
       "      <td>299000</td>\n",
       "      <td>test</td>\n",
       "      <td>coupe</td>\n",
       "      <td>1977</td>\n",
       "      <td>manuell</td>\n",
       "      <td>260</td>\n",
       "      <td>911</td>\n",
       "      <td>100000</td>\n",
       "      <td>7</td>\n",
       "      <td>benzin</td>\n",
       "      <td>porsche</td>\n",
       "      <td>nein</td>\n",
       "      <td>2016-03-23 00:00:00</td>\n",
       "      <td>0</td>\n",
       "      <td>61462</td>\n",
       "      <td>2016-04-06 16:44:50</td>\n",
       "    </tr>\n",
       "    <tr>\n",
       "      <th>35923</th>\n",
       "      <td>2016-04-03 07:56:23</td>\n",
       "      <td>Porsche_911_Targa_Exclusive_Edition__1_von_15_...</td>\n",
       "      <td>privat</td>\n",
       "      <td>Angebot</td>\n",
       "      <td>295000</td>\n",
       "      <td>test</td>\n",
       "      <td>cabrio</td>\n",
       "      <td>2015</td>\n",
       "      <td>automatik</td>\n",
       "      <td>400</td>\n",
       "      <td>911</td>\n",
       "      <td>5000</td>\n",
       "      <td>6</td>\n",
       "      <td>benzin</td>\n",
       "      <td>porsche</td>\n",
       "      <td>nein</td>\n",
       "      <td>2016-04-03 00:00:00</td>\n",
       "      <td>0</td>\n",
       "      <td>74078</td>\n",
       "      <td>2016-04-03 08:56:20</td>\n",
       "    </tr>\n",
       "    <tr>\n",
       "      <th>12682</th>\n",
       "      <td>2016-03-28 22:48:01</td>\n",
       "      <td>Porsche_GT3_RS__PCCB__Lift___grosser_Exklusiv_...</td>\n",
       "      <td>privat</td>\n",
       "      <td>Angebot</td>\n",
       "      <td>265000</td>\n",
       "      <td>control</td>\n",
       "      <td>coupe</td>\n",
       "      <td>2016</td>\n",
       "      <td>automatik</td>\n",
       "      <td>500</td>\n",
       "      <td>911</td>\n",
       "      <td>5000</td>\n",
       "      <td>3</td>\n",
       "      <td>benzin</td>\n",
       "      <td>porsche</td>\n",
       "      <td>nein</td>\n",
       "      <td>2016-03-28 00:00:00</td>\n",
       "      <td>0</td>\n",
       "      <td>70193</td>\n",
       "      <td>2016-04-05 03:44:51</td>\n",
       "    </tr>\n",
       "  </tbody>\n",
       "</table>\n",
       "</div>"
      ],
      "text/plain": [
       "              date_crawled                                               name  \\\n",
       "36818  2016-03-27 18:37:37                                        Porsche_991   \n",
       "14715  2016-03-30 08:37:24                 Rolls_Royce_Phantom_Drophead_Coupe   \n",
       "34723  2016-03-23 16:37:29  Porsche_Porsche_911/930_Turbo_3.0__deutsche_Au...   \n",
       "35923  2016-04-03 07:56:23  Porsche_911_Targa_Exclusive_Edition__1_von_15_...   \n",
       "12682  2016-03-28 22:48:01  Porsche_GT3_RS__PCCB__Lift___grosser_Exklusiv_...   \n",
       "\n",
       "       seller offer_type   price   abtest vehicle_type  registration_year  \\\n",
       "36818  privat    Angebot  350000  control        coupe               2016   \n",
       "14715  privat    Angebot  345000  control       cabrio               2012   \n",
       "34723  privat    Angebot  299000     test        coupe               1977   \n",
       "35923  privat    Angebot  295000     test       cabrio               2015   \n",
       "12682  privat    Angebot  265000  control        coupe               2016   \n",
       "\n",
       "         gearbox  power_p_s model  odometer_km  registration_month fuel_type  \\\n",
       "36818    manuell        500   911         5000                   3    benzin   \n",
       "14715  automatik        460   NaN        20000                   8    benzin   \n",
       "34723    manuell        260   911       100000                   7    benzin   \n",
       "35923  automatik        400   911         5000                   6    benzin   \n",
       "12682  automatik        500   911         5000                   3    benzin   \n",
       "\n",
       "                brand unrepaired_damage           ad_created  nr_of_pictures  \\\n",
       "36818         porsche              nein  2016-03-27 00:00:00               0   \n",
       "14715  sonstige_autos              nein  2016-03-30 00:00:00               0   \n",
       "34723         porsche              nein  2016-03-23 00:00:00               0   \n",
       "35923         porsche              nein  2016-04-03 00:00:00               0   \n",
       "12682         porsche              nein  2016-03-28 00:00:00               0   \n",
       "\n",
       "       postal_code            last_seen  \n",
       "36818        70499  2016-03-27 18:37:37  \n",
       "14715        73525  2016-04-07 00:16:26  \n",
       "34723        61462  2016-04-06 16:44:50  \n",
       "35923        74078  2016-04-03 08:56:20  \n",
       "12682        70193  2016-04-05 03:44:51  "
      ]
     },
     "execution_count": 25,
     "metadata": {},
     "output_type": "execute_result"
    }
   ],
   "source": [
    "autos.sort_values('price', ascending = False).head()"
   ]
  },
  {
   "cell_type": "markdown",
   "metadata": {},
   "source": [
    "Remaining data entries containg only prices between 399 and 350000."
   ]
  },
  {
   "cell_type": "markdown",
   "metadata": {},
   "source": [
    "## 5. Exploring the Date Columns"
   ]
  },
  {
   "cell_type": "code",
   "execution_count": 26,
   "metadata": {
    "collapsed": false,
    "scrolled": true
   },
   "outputs": [
    {
     "data": {
      "text/plain": [
       "2016-03-05    0.025534\n",
       "2016-03-06    0.014137\n",
       "2016-03-07    0.036235\n",
       "2016-03-08    0.033081\n",
       "2016-03-09    0.032864\n",
       "2016-03-10    0.032559\n",
       "2016-03-11    0.032820\n",
       "2016-03-12    0.037105\n",
       "2016-03-13    0.015573\n",
       "2016-03-14    0.036235\n",
       "2016-03-15    0.034234\n",
       "2016-03-16    0.029514\n",
       "2016-03-17    0.031319\n",
       "2016-03-18    0.012854\n",
       "2016-03-19    0.034495\n",
       "2016-03-20    0.038105\n",
       "2016-03-21    0.037627\n",
       "2016-03-22    0.032994\n",
       "2016-03-23    0.032429\n",
       "2016-03-24    0.028992\n",
       "2016-03-25    0.031211\n",
       "2016-03-26    0.032385\n",
       "2016-03-27    0.031080\n",
       "2016-03-28    0.034865\n",
       "2016-03-29    0.033668\n",
       "2016-03-30    0.033560\n",
       "2016-03-31    0.031950\n",
       "2016-04-01    0.033908\n",
       "2016-04-02    0.035691\n",
       "2016-04-03    0.038779\n",
       "2016-04-04    0.036539\n",
       "2016-04-05    0.013137\n",
       "2016-04-06    0.003132\n",
       "2016-04-07    0.001392\n",
       "Name: date_crawled, dtype: float64"
      ]
     },
     "execution_count": 26,
     "metadata": {},
     "output_type": "execute_result"
    }
   ],
   "source": [
    "autos['date_crawled'].str[:10].value_counts(normalize = True, dropna = False).sort_index()"
   ]
  },
  {
   "cell_type": "code",
   "execution_count": 27,
   "metadata": {
    "collapsed": false,
    "scrolled": true
   },
   "outputs": [
    {
     "data": {
      "text/plain": [
       "2015-06-11    0.000022\n",
       "2015-08-10    0.000022\n",
       "2015-09-09    0.000022\n",
       "2015-11-10    0.000022\n",
       "2015-12-05    0.000022\n",
       "2015-12-30    0.000022\n",
       "2016-01-03    0.000022\n",
       "2016-01-07    0.000022\n",
       "2016-01-10    0.000043\n",
       "2016-01-13    0.000022\n",
       "2016-01-14    0.000022\n",
       "2016-01-16    0.000022\n",
       "2016-01-22    0.000022\n",
       "2016-01-27    0.000065\n",
       "2016-01-29    0.000022\n",
       "2016-02-01    0.000022\n",
       "2016-02-02    0.000043\n",
       "2016-02-05    0.000043\n",
       "2016-02-07    0.000022\n",
       "2016-02-08    0.000022\n",
       "2016-02-09    0.000022\n",
       "2016-02-11    0.000022\n",
       "2016-02-12    0.000043\n",
       "2016-02-14    0.000043\n",
       "2016-02-16    0.000022\n",
       "2016-02-17    0.000022\n",
       "2016-02-18    0.000043\n",
       "2016-02-19    0.000065\n",
       "2016-02-20    0.000043\n",
       "2016-02-21    0.000043\n",
       "                ...   \n",
       "2016-03-09    0.032951\n",
       "2016-03-10    0.032298\n",
       "2016-03-11    0.033125\n",
       "2016-03-12    0.036887\n",
       "2016-03-13    0.017052\n",
       "2016-03-14    0.034799\n",
       "2016-03-15    0.033995\n",
       "2016-03-16    0.030014\n",
       "2016-03-17    0.030971\n",
       "2016-03-18    0.013463\n",
       "2016-03-19    0.033407\n",
       "2016-03-20    0.038214\n",
       "2016-03-21    0.037844\n",
       "2016-03-22    0.032777\n",
       "2016-03-23    0.032255\n",
       "2016-03-24    0.028949\n",
       "2016-03-25    0.031363\n",
       "2016-03-26    0.032407\n",
       "2016-03-27    0.031015\n",
       "2016-03-28    0.034908\n",
       "2016-03-29    0.033690\n",
       "2016-03-30    0.033386\n",
       "2016-03-31    0.032015\n",
       "2016-04-01    0.033864\n",
       "2016-04-02    0.035386\n",
       "2016-04-03    0.039019\n",
       "2016-04-04    0.036909\n",
       "2016-04-05    0.011853\n",
       "2016-04-06    0.003219\n",
       "2016-04-07    0.001240\n",
       "Name: ad_created, Length: 76, dtype: float64"
      ]
     },
     "execution_count": 27,
     "metadata": {},
     "output_type": "execute_result"
    }
   ],
   "source": [
    "autos['ad_created'].str[:10].value_counts(normalize = True, dropna = False).sort_index()"
   ]
  },
  {
   "cell_type": "code",
   "execution_count": 28,
   "metadata": {
    "collapsed": false,
    "scrolled": true
   },
   "outputs": [
    {
     "data": {
      "text/plain": [
       "2016-03-05    0.001087\n",
       "2016-03-06    0.004219\n",
       "2016-03-07    0.005263\n",
       "2016-03-08    0.007134\n",
       "2016-03-09    0.009483\n",
       "2016-03-10    0.010353\n",
       "2016-03-11    0.012114\n",
       "2016-03-12    0.023859\n",
       "2016-03-13    0.008809\n",
       "2016-03-14    0.012354\n",
       "2016-03-15    0.015703\n",
       "2016-03-16    0.016225\n",
       "2016-03-17    0.027839\n",
       "2016-03-18    0.007308\n",
       "2016-03-19    0.015507\n",
       "2016-03-20    0.020532\n",
       "2016-03-21    0.020553\n",
       "2016-03-22    0.021293\n",
       "2016-03-23    0.018509\n",
       "2016-03-24    0.019553\n",
       "2016-03-25    0.018813\n",
       "2016-03-26    0.016399\n",
       "2016-03-27    0.015594\n",
       "2016-03-28    0.020749\n",
       "2016-03-29    0.021728\n",
       "2016-03-30    0.024142\n",
       "2016-03-31    0.023576\n",
       "2016-04-01    0.022881\n",
       "2016-04-02    0.024860\n",
       "2016-04-03    0.024947\n",
       "2016-04-04    0.024359\n",
       "2016-04-05    0.126343\n",
       "2016-04-06    0.224325\n",
       "2016-04-07    0.133586\n",
       "Name: last_seen, dtype: float64"
      ]
     },
     "execution_count": 28,
     "metadata": {},
     "output_type": "execute_result"
    }
   ],
   "source": [
    "autos['last_seen'].str[:10].value_counts(normalize = True, dropna = False).sort_index()"
   ]
  },
  {
   "cell_type": "markdown",
   "metadata": {},
   "source": [
    "We confirm that there are no missing values in the three columns, shown in the distributions above."
   ]
  },
  {
   "cell_type": "code",
   "execution_count": 29,
   "metadata": {
    "collapsed": false
   },
   "outputs": [
    {
     "data": {
      "text/plain": [
       "count    45978.000000\n",
       "mean      2004.937427\n",
       "std         88.905588\n",
       "min       1000.000000\n",
       "25%       1999.000000\n",
       "50%       2004.000000\n",
       "75%       2008.000000\n",
       "max       9999.000000\n",
       "Name: registration_year, dtype: float64"
      ]
     },
     "execution_count": 29,
     "metadata": {},
     "output_type": "execute_result"
    }
   ],
   "source": [
    "autos['registration_year'].describe()"
   ]
  },
  {
   "cell_type": "markdown",
   "metadata": {},
   "source": [
    "As we saw earlier the 'registration_year' column contains some inacurate entries lower than 1900 and higher than current year."
   ]
  },
  {
   "cell_type": "markdown",
   "metadata": {},
   "source": [
    "## 6.Dealing with Incorrect Registration Year Data"
   ]
  },
  {
   "cell_type": "markdown",
   "metadata": {},
   "source": [
    "We'll remove all data enries containing a registration year earlier than 1900 and later than 2020."
   ]
  },
  {
   "cell_type": "code",
   "execution_count": 30,
   "metadata": {
    "collapsed": false
   },
   "outputs": [
    {
     "data": {
      "text/html": [
       "<div>\n",
       "<style scoped>\n",
       "    .dataframe tbody tr th:only-of-type {\n",
       "        vertical-align: middle;\n",
       "    }\n",
       "\n",
       "    .dataframe tbody tr th {\n",
       "        vertical-align: top;\n",
       "    }\n",
       "\n",
       "    .dataframe thead th {\n",
       "        text-align: right;\n",
       "    }\n",
       "</style>\n",
       "<table border=\"1\" class=\"dataframe\">\n",
       "  <thead>\n",
       "    <tr style=\"text-align: right;\">\n",
       "      <th></th>\n",
       "      <th>date_crawled</th>\n",
       "      <th>name</th>\n",
       "      <th>seller</th>\n",
       "      <th>offer_type</th>\n",
       "      <th>price</th>\n",
       "      <th>abtest</th>\n",
       "      <th>vehicle_type</th>\n",
       "      <th>registration_year</th>\n",
       "      <th>gearbox</th>\n",
       "      <th>power_p_s</th>\n",
       "      <th>model</th>\n",
       "      <th>odometer_km</th>\n",
       "      <th>registration_month</th>\n",
       "      <th>fuel_type</th>\n",
       "      <th>brand</th>\n",
       "      <th>unrepaired_damage</th>\n",
       "      <th>ad_created</th>\n",
       "      <th>nr_of_pictures</th>\n",
       "      <th>postal_code</th>\n",
       "      <th>last_seen</th>\n",
       "    </tr>\n",
       "  </thead>\n",
       "  <tbody>\n",
       "    <tr>\n",
       "      <th>28693</th>\n",
       "      <td>2016-03-22 17:48:41</td>\n",
       "      <td>Renault_Twingo</td>\n",
       "      <td>privat</td>\n",
       "      <td>Angebot</td>\n",
       "      <td>599</td>\n",
       "      <td>control</td>\n",
       "      <td>kleinwagen</td>\n",
       "      <td>1910</td>\n",
       "      <td>manuell</td>\n",
       "      <td>0</td>\n",
       "      <td>NaN</td>\n",
       "      <td>5000</td>\n",
       "      <td>0</td>\n",
       "      <td>benzin</td>\n",
       "      <td>renault</td>\n",
       "      <td>NaN</td>\n",
       "      <td>2016-03-22 00:00:00</td>\n",
       "      <td>0</td>\n",
       "      <td>70376</td>\n",
       "      <td>2016-04-06 09:16:59</td>\n",
       "    </tr>\n",
       "    <tr>\n",
       "      <th>22659</th>\n",
       "      <td>2016-03-14 08:51:18</td>\n",
       "      <td>Opel_Corsa_B</td>\n",
       "      <td>privat</td>\n",
       "      <td>Angebot</td>\n",
       "      <td>500</td>\n",
       "      <td>test</td>\n",
       "      <td>NaN</td>\n",
       "      <td>1910</td>\n",
       "      <td>NaN</td>\n",
       "      <td>0</td>\n",
       "      <td>corsa</td>\n",
       "      <td>150000</td>\n",
       "      <td>0</td>\n",
       "      <td>NaN</td>\n",
       "      <td>opel</td>\n",
       "      <td>NaN</td>\n",
       "      <td>2016-03-14 00:00:00</td>\n",
       "      <td>0</td>\n",
       "      <td>52393</td>\n",
       "      <td>2016-04-03 07:53:55</td>\n",
       "    </tr>\n",
       "    <tr>\n",
       "      <th>21416</th>\n",
       "      <td>2016-03-12 08:36:21</td>\n",
       "      <td>Essex_super_six__Ford_A</td>\n",
       "      <td>privat</td>\n",
       "      <td>Angebot</td>\n",
       "      <td>16500</td>\n",
       "      <td>control</td>\n",
       "      <td>cabrio</td>\n",
       "      <td>1927</td>\n",
       "      <td>manuell</td>\n",
       "      <td>40</td>\n",
       "      <td>andere</td>\n",
       "      <td>5000</td>\n",
       "      <td>5</td>\n",
       "      <td>benzin</td>\n",
       "      <td>ford</td>\n",
       "      <td>NaN</td>\n",
       "      <td>2016-03-12 00:00:00</td>\n",
       "      <td>0</td>\n",
       "      <td>74821</td>\n",
       "      <td>2016-03-15 12:45:12</td>\n",
       "    </tr>\n",
       "  </tbody>\n",
       "</table>\n",
       "</div>"
      ],
      "text/plain": [
       "              date_crawled                     name  seller offer_type  price  \\\n",
       "28693  2016-03-22 17:48:41           Renault_Twingo  privat    Angebot    599   \n",
       "22659  2016-03-14 08:51:18             Opel_Corsa_B  privat    Angebot    500   \n",
       "21416  2016-03-12 08:36:21  Essex_super_six__Ford_A  privat    Angebot  16500   \n",
       "\n",
       "        abtest vehicle_type  registration_year  gearbox  power_p_s   model  \\\n",
       "28693  control   kleinwagen               1910  manuell          0     NaN   \n",
       "22659     test          NaN               1910      NaN          0   corsa   \n",
       "21416  control       cabrio               1927  manuell         40  andere   \n",
       "\n",
       "       odometer_km  registration_month fuel_type    brand unrepaired_damage  \\\n",
       "28693         5000                   0    benzin  renault               NaN   \n",
       "22659       150000                   0       NaN     opel               NaN   \n",
       "21416         5000                   5    benzin     ford               NaN   \n",
       "\n",
       "                ad_created  nr_of_pictures  postal_code            last_seen  \n",
       "28693  2016-03-22 00:00:00               0        70376  2016-04-06 09:16:59  \n",
       "22659  2016-03-14 00:00:00               0        52393  2016-04-03 07:53:55  \n",
       "21416  2016-03-12 00:00:00               0        74821  2016-03-15 12:45:12  "
      ]
     },
     "execution_count": 30,
     "metadata": {},
     "output_type": "execute_result"
    }
   ],
   "source": [
    "autos = autos[autos['registration_year'].between(1900, 2016)]\n",
    "autos.sort_values('registration_year').head(3)"
   ]
  },
  {
   "cell_type": "code",
   "execution_count": 31,
   "metadata": {
    "collapsed": false
   },
   "outputs": [
    {
     "data": {
      "text/html": [
       "<div>\n",
       "<style scoped>\n",
       "    .dataframe tbody tr th:only-of-type {\n",
       "        vertical-align: middle;\n",
       "    }\n",
       "\n",
       "    .dataframe tbody tr th {\n",
       "        vertical-align: top;\n",
       "    }\n",
       "\n",
       "    .dataframe thead th {\n",
       "        text-align: right;\n",
       "    }\n",
       "</style>\n",
       "<table border=\"1\" class=\"dataframe\">\n",
       "  <thead>\n",
       "    <tr style=\"text-align: right;\">\n",
       "      <th></th>\n",
       "      <th>date_crawled</th>\n",
       "      <th>name</th>\n",
       "      <th>seller</th>\n",
       "      <th>offer_type</th>\n",
       "      <th>price</th>\n",
       "      <th>abtest</th>\n",
       "      <th>vehicle_type</th>\n",
       "      <th>registration_year</th>\n",
       "      <th>gearbox</th>\n",
       "      <th>power_p_s</th>\n",
       "      <th>model</th>\n",
       "      <th>odometer_km</th>\n",
       "      <th>registration_month</th>\n",
       "      <th>fuel_type</th>\n",
       "      <th>brand</th>\n",
       "      <th>unrepaired_damage</th>\n",
       "      <th>ad_created</th>\n",
       "      <th>nr_of_pictures</th>\n",
       "      <th>postal_code</th>\n",
       "      <th>last_seen</th>\n",
       "    </tr>\n",
       "  </thead>\n",
       "  <tbody>\n",
       "    <tr>\n",
       "      <th>19492</th>\n",
       "      <td>2016-03-09 19:43:08</td>\n",
       "      <td>Mercedes_Benz_C_180</td>\n",
       "      <td>privat</td>\n",
       "      <td>Angebot</td>\n",
       "      <td>1700</td>\n",
       "      <td>test</td>\n",
       "      <td>NaN</td>\n",
       "      <td>2016</td>\n",
       "      <td>manuell</td>\n",
       "      <td>115</td>\n",
       "      <td>c_klasse</td>\n",
       "      <td>150000</td>\n",
       "      <td>6</td>\n",
       "      <td>benzin</td>\n",
       "      <td>mercedes_benz</td>\n",
       "      <td>nein</td>\n",
       "      <td>2016-03-09 00:00:00</td>\n",
       "      <td>0</td>\n",
       "      <td>6217</td>\n",
       "      <td>2016-04-06 04:46:05</td>\n",
       "    </tr>\n",
       "    <tr>\n",
       "      <th>2906</th>\n",
       "      <td>2016-03-09 17:57:44</td>\n",
       "      <td>Golf_4_sehr_sparsam</td>\n",
       "      <td>privat</td>\n",
       "      <td>Angebot</td>\n",
       "      <td>2200</td>\n",
       "      <td>test</td>\n",
       "      <td>NaN</td>\n",
       "      <td>2016</td>\n",
       "      <td>manuell</td>\n",
       "      <td>0</td>\n",
       "      <td>golf</td>\n",
       "      <td>150000</td>\n",
       "      <td>6</td>\n",
       "      <td>diesel</td>\n",
       "      <td>volkswagen</td>\n",
       "      <td>NaN</td>\n",
       "      <td>2016-03-09 00:00:00</td>\n",
       "      <td>0</td>\n",
       "      <td>27283</td>\n",
       "      <td>2016-03-14 10:44:23</td>\n",
       "    </tr>\n",
       "    <tr>\n",
       "      <th>13898</th>\n",
       "      <td>2016-03-16 16:57:08</td>\n",
       "      <td>Audi_A4_B5_mit_TÜV!!!</td>\n",
       "      <td>privat</td>\n",
       "      <td>Angebot</td>\n",
       "      <td>750</td>\n",
       "      <td>control</td>\n",
       "      <td>NaN</td>\n",
       "      <td>2016</td>\n",
       "      <td>manuell</td>\n",
       "      <td>174</td>\n",
       "      <td>a4</td>\n",
       "      <td>150000</td>\n",
       "      <td>12</td>\n",
       "      <td>NaN</td>\n",
       "      <td>audi</td>\n",
       "      <td>NaN</td>\n",
       "      <td>2016-03-16 00:00:00</td>\n",
       "      <td>0</td>\n",
       "      <td>26169</td>\n",
       "      <td>2016-03-19 15:18:16</td>\n",
       "    </tr>\n",
       "  </tbody>\n",
       "</table>\n",
       "</div>"
      ],
      "text/plain": [
       "              date_crawled                   name  seller offer_type  price  \\\n",
       "19492  2016-03-09 19:43:08    Mercedes_Benz_C_180  privat    Angebot   1700   \n",
       "2906   2016-03-09 17:57:44    Golf_4_sehr_sparsam  privat    Angebot   2200   \n",
       "13898  2016-03-16 16:57:08  Audi_A4_B5_mit_TÜV!!!  privat    Angebot    750   \n",
       "\n",
       "        abtest vehicle_type  registration_year  gearbox  power_p_s     model  \\\n",
       "19492     test          NaN               2016  manuell        115  c_klasse   \n",
       "2906      test          NaN               2016  manuell          0      golf   \n",
       "13898  control          NaN               2016  manuell        174        a4   \n",
       "\n",
       "       odometer_km  registration_month fuel_type          brand  \\\n",
       "19492       150000                   6    benzin  mercedes_benz   \n",
       "2906        150000                   6    diesel     volkswagen   \n",
       "13898       150000                  12       NaN           audi   \n",
       "\n",
       "      unrepaired_damage           ad_created  nr_of_pictures  postal_code  \\\n",
       "19492              nein  2016-03-09 00:00:00               0         6217   \n",
       "2906                NaN  2016-03-09 00:00:00               0        27283   \n",
       "13898               NaN  2016-03-16 00:00:00               0        26169   \n",
       "\n",
       "                 last_seen  \n",
       "19492  2016-04-06 04:46:05  \n",
       "2906   2016-03-14 10:44:23  \n",
       "13898  2016-03-19 15:18:16  "
      ]
     },
     "execution_count": 31,
     "metadata": {},
     "output_type": "execute_result"
    }
   ],
   "source": [
    "autos.sort_values('registration_year', ascending = False).head(3)"
   ]
  },
  {
   "cell_type": "markdown",
   "metadata": {},
   "source": [
    "Here is the description of our data set after removing erroneous car registration years."
   ]
  },
  {
   "cell_type": "code",
   "execution_count": 32,
   "metadata": {
    "collapsed": false,
    "scrolled": true
   },
   "outputs": [
    {
     "name": "stdout",
     "output_type": "stream",
     "text": [
      "<class 'pandas.core.frame.DataFrame'>\n",
      "Int64Index: 44161 entries, 0 to 49999\n",
      "Data columns (total 20 columns):\n",
      "date_crawled          44161 non-null object\n",
      "name                  44161 non-null object\n",
      "seller                44161 non-null object\n",
      "offer_type            44161 non-null object\n",
      "price                 44161 non-null int64\n",
      "abtest                44161 non-null object\n",
      "vehicle_type          42122 non-null object\n",
      "registration_year     44161 non-null int64\n",
      "gearbox               42484 non-null object\n",
      "power_p_s             44161 non-null int64\n",
      "model                 42267 non-null object\n",
      "odometer_km           44161 non-null int64\n",
      "registration_month    44161 non-null int64\n",
      "fuel_type             41476 non-null object\n",
      "brand                 44161 non-null object\n",
      "unrepaired_damage     37037 non-null object\n",
      "ad_created            44161 non-null object\n",
      "nr_of_pictures        44161 non-null int64\n",
      "postal_code           44161 non-null int64\n",
      "last_seen             44161 non-null object\n",
      "dtypes: int64(7), object(13)\n",
      "memory usage: 7.1+ MB\n"
     ]
    }
   ],
   "source": [
    "autos.info()"
   ]
  },
  {
   "cell_type": "code",
   "execution_count": 33,
   "metadata": {
    "collapsed": false,
    "scrolled": true
   },
   "outputs": [
    {
     "data": {
      "text/plain": [
       "1910    0.000045\n",
       "1927    0.000023\n",
       "1929    0.000023\n",
       "1931    0.000023\n",
       "1934    0.000045\n",
       "1937    0.000091\n",
       "1938    0.000023\n",
       "1939    0.000023\n",
       "1941    0.000045\n",
       "1943    0.000023\n",
       "1948    0.000023\n",
       "1950    0.000023\n",
       "1951    0.000045\n",
       "1952    0.000023\n",
       "1953    0.000023\n",
       "1954    0.000045\n",
       "1955    0.000045\n",
       "1956    0.000091\n",
       "1957    0.000045\n",
       "1958    0.000091\n",
       "1959    0.000136\n",
       "1960    0.000430\n",
       "1961    0.000136\n",
       "1962    0.000091\n",
       "1963    0.000181\n",
       "1964    0.000272\n",
       "1965    0.000385\n",
       "1966    0.000476\n",
       "1967    0.000589\n",
       "1968    0.000589\n",
       "          ...   \n",
       "1987    0.001562\n",
       "1988    0.002966\n",
       "1989    0.003533\n",
       "1990    0.006454\n",
       "1991    0.006839\n",
       "1992    0.007292\n",
       "1993    0.008333\n",
       "1994    0.011956\n",
       "1995    0.021512\n",
       "1996    0.025950\n",
       "1997    0.036661\n",
       "1998    0.047599\n",
       "1999    0.060823\n",
       "2000    0.063495\n",
       "2001    0.058174\n",
       "2002    0.055230\n",
       "2003    0.060415\n",
       "2004    0.060868\n",
       "2005    0.065239\n",
       "2006    0.060393\n",
       "2007    0.051448\n",
       "2008    0.049954\n",
       "2009    0.047055\n",
       "2010    0.035937\n",
       "2011    0.036616\n",
       "2012    0.029596\n",
       "2013    0.018048\n",
       "2014    0.014809\n",
       "2015    0.008265\n",
       "2016    0.023188\n",
       "Name: registration_year, Length: 78, dtype: float64"
      ]
     },
     "execution_count": 33,
     "metadata": {},
     "output_type": "execute_result"
    }
   ],
   "source": [
    "autos['registration_year'].value_counts(normalize = True).sort_index()"
   ]
  },
  {
   "cell_type": "markdown",
   "metadata": {},
   "source": [
    "## 7. Exploring Price by Brand"
   ]
  },
  {
   "cell_type": "markdown",
   "metadata": {},
   "source": [
    "First we are going to summarize the mean price for all brands and store the data in a dictionary called *\"brand_pivot\"*"
   ]
  },
  {
   "cell_type": "code",
   "execution_count": 34,
   "metadata": {
    "collapsed": false,
    "scrolled": true
   },
   "outputs": [
    {
     "data": {
      "text/plain": [
       "{'alfa_romeo': 4269.0,\n",
       " 'audi': 9516.0,\n",
       " 'bmw': 8521.0,\n",
       " 'chevrolet': 6810.0,\n",
       " 'chrysler': 3567.0,\n",
       " 'citroen': 3955.0,\n",
       " 'dacia': 5916.0,\n",
       " 'daewoo': 1207.0,\n",
       " 'daihatsu': 1860.0,\n",
       " 'fiat': 3152.0,\n",
       " 'ford': 4167.0,\n",
       " 'honda': 4296.0,\n",
       " 'hyundai': 5571.0,\n",
       " 'jaguar': 12130.0,\n",
       " 'jeep': 11650.0,\n",
       " 'kia': 6090.0,\n",
       " 'lada': 2780.0,\n",
       " 'lancia': 3726.0,\n",
       " 'land_rover': 19108.0,\n",
       " 'mazda': 4321.0,\n",
       " 'mercedes_benz': 8731.0,\n",
       " 'mini': 10691.0,\n",
       " 'mitsubishi': 3721.0,\n",
       " 'nissan': 5083.0,\n",
       " 'opel': 3281.0,\n",
       " 'peugeot': 3300.0,\n",
       " 'porsche': 46788.0,\n",
       " 'renault': 2723.0,\n",
       " 'rover': 1720.0,\n",
       " 'saab': 3416.0,\n",
       " 'seat': 4679.0,\n",
       " 'skoda': 6542.0,\n",
       " 'smart': 3601.0,\n",
       " 'sonstige_autos': 13317.0,\n",
       " 'subaru': 4415.0,\n",
       " 'suzuki': 4354.0,\n",
       " 'toyota': 5250.0,\n",
       " 'trabant': 2222.0,\n",
       " 'volkswagen': 5688.0,\n",
       " 'volvo': 5143.0}"
      ]
     },
     "execution_count": 34,
     "metadata": {},
     "output_type": "execute_result"
    }
   ],
   "source": [
    "brand = autos['brand'].unique()\n",
    "brand_pivot = {}\n",
    "for i in brand:\n",
    "    brand_pivot[i] = round(autos.loc[autos['brand'] == i, 'price'].mean(),0)\n",
    "brand_pivot"
   ]
  },
  {
   "cell_type": "markdown",
   "metadata": {},
   "source": [
    "Next we see how brands are distributed by the number of adds for each brand, sorted in descending order."
   ]
  },
  {
   "cell_type": "code",
   "execution_count": 35,
   "metadata": {
    "collapsed": false,
    "scrolled": true
   },
   "outputs": [
    {
     "data": {
      "text/plain": [
       "volkswagen        9347\n",
       "bmw               5021\n",
       "opel              4519\n",
       "mercedes_benz     4449\n",
       "audi              3963\n",
       "ford              2917\n",
       "renault           1982\n",
       "peugeot           1299\n",
       "fiat              1058\n",
       "seat               799\n",
       "skoda              745\n",
       "mazda              673\n",
       "nissan             663\n",
       "smart              657\n",
       "citroen            623\n",
       "toyota             583\n",
       "hyundai            450\n",
       "sonstige_autos     424\n",
       "volvo              410\n",
       "mini               406\n",
       "honda              349\n",
       "mitsubishi         348\n",
       "kia                324\n",
       "alfa_romeo         296\n",
       "porsche            279\n",
       "chevrolet          261\n",
       "suzuki             260\n",
       "chrysler           159\n",
       "dacia              123\n",
       "jeep               106\n",
       "daihatsu           101\n",
       "land_rover          98\n",
       "subaru              89\n",
       "saab                72\n",
       "jaguar              70\n",
       "daewoo              59\n",
       "rover               57\n",
       "trabant             51\n",
       "lancia              45\n",
       "lada                26\n",
       "Name: brand, dtype: int64"
      ]
     },
     "execution_count": 35,
     "metadata": {},
     "output_type": "execute_result"
    }
   ],
   "source": [
    "br_pr = autos['brand']\n",
    "top_br = br_pr.value_counts(ascending = False)\n",
    "top_br"
   ]
  },
  {
   "cell_type": "markdown",
   "metadata": {},
   "source": [
    "Finally we can choose what portion of the brands we want to examine more closely. Lets say we want to  see the mean prices for each brand that has more than 1000 adds:"
   ]
  },
  {
   "cell_type": "code",
   "execution_count": 36,
   "metadata": {
    "collapsed": false,
    "scrolled": true
   },
   "outputs": [
    {
     "data": {
      "text/plain": [
       "[(9516.0, 'audi'),\n",
       " (8731.0, 'mercedes_benz'),\n",
       " (8521.0, 'bmw'),\n",
       " (5688.0, 'volkswagen'),\n",
       " (4167.0, 'ford'),\n",
       " (3300.0, 'peugeot'),\n",
       " (3281.0, 'opel'),\n",
       " (3152.0, 'fiat'),\n",
       " (2723.0, 'renault')]"
      ]
     },
     "execution_count": 36,
     "metadata": {},
     "output_type": "execute_result"
    }
   ],
   "source": [
    "popular_brands = []\n",
    "for i in brand_pivot:\n",
    "    if top_br[i] > 1000:\n",
    "        popular_brands.append((brand_pivot[i], i))\n",
    "sorted(popular_brands, reverse = True)"
   ]
  },
  {
   "cell_type": "markdown",
   "metadata": {},
   "source": [
    "No surprises there - the top three most expensive brands (at least as far as mass production cars go) are *Audi*, *Mercedes* and *BMW*. The fourth - *Volkswagen* is far behind."
   ]
  },
  {
   "cell_type": "code",
   "execution_count": 37,
   "metadata": {
    "collapsed": false,
    "scrolled": true
   },
   "outputs": [
    {
     "data": {
      "text/plain": [
       "porsche           46788.0\n",
       "land_rover        19108.0\n",
       "sonstige_autos    13317.0\n",
       "jaguar            12130.0\n",
       "jeep              11650.0\n",
       "mini              10691.0\n",
       "audi               9516.0\n",
       "mercedes_benz      8731.0\n",
       "bmw                8521.0\n",
       "chevrolet          6810.0\n",
       "skoda              6542.0\n",
       "kia                6090.0\n",
       "dacia              5916.0\n",
       "volkswagen         5688.0\n",
       "hyundai            5571.0\n",
       "toyota             5250.0\n",
       "volvo              5143.0\n",
       "nissan             5083.0\n",
       "seat               4679.0\n",
       "subaru             4415.0\n",
       "suzuki             4354.0\n",
       "mazda              4321.0\n",
       "honda              4296.0\n",
       "alfa_romeo         4269.0\n",
       "ford               4167.0\n",
       "citroen            3955.0\n",
       "lancia             3726.0\n",
       "mitsubishi         3721.0\n",
       "smart              3601.0\n",
       "chrysler           3567.0\n",
       "saab               3416.0\n",
       "peugeot            3300.0\n",
       "opel               3281.0\n",
       "fiat               3152.0\n",
       "lada               2780.0\n",
       "renault            2723.0\n",
       "trabant            2222.0\n",
       "daihatsu           1860.0\n",
       "rover              1720.0\n",
       "daewoo             1207.0\n",
       "dtype: float64"
      ]
     },
     "execution_count": 37,
     "metadata": {},
     "output_type": "execute_result"
    }
   ],
   "source": [
    "mpr_series = pd.Series(brand_pivot).sort_values(ascending = False)\n",
    "mpr_series"
   ]
  },
  {
   "cell_type": "code",
   "execution_count": 38,
   "metadata": {
    "collapsed": false
   },
   "outputs": [
    {
     "data": {
      "text/html": [
       "<div>\n",
       "<style scoped>\n",
       "    .dataframe tbody tr th:only-of-type {\n",
       "        vertical-align: middle;\n",
       "    }\n",
       "\n",
       "    .dataframe tbody tr th {\n",
       "        vertical-align: top;\n",
       "    }\n",
       "\n",
       "    .dataframe thead th {\n",
       "        text-align: right;\n",
       "    }\n",
       "</style>\n",
       "<table border=\"1\" class=\"dataframe\">\n",
       "  <thead>\n",
       "    <tr style=\"text-align: right;\">\n",
       "      <th></th>\n",
       "      <th>mean_price</th>\n",
       "    </tr>\n",
       "  </thead>\n",
       "  <tbody>\n",
       "    <tr>\n",
       "      <th>porsche</th>\n",
       "      <td>46788.0</td>\n",
       "    </tr>\n",
       "    <tr>\n",
       "      <th>land_rover</th>\n",
       "      <td>19108.0</td>\n",
       "    </tr>\n",
       "    <tr>\n",
       "      <th>sonstige_autos</th>\n",
       "      <td>13317.0</td>\n",
       "    </tr>\n",
       "    <tr>\n",
       "      <th>jaguar</th>\n",
       "      <td>12130.0</td>\n",
       "    </tr>\n",
       "    <tr>\n",
       "      <th>jeep</th>\n",
       "      <td>11650.0</td>\n",
       "    </tr>\n",
       "    <tr>\n",
       "      <th>mini</th>\n",
       "      <td>10691.0</td>\n",
       "    </tr>\n",
       "    <tr>\n",
       "      <th>audi</th>\n",
       "      <td>9516.0</td>\n",
       "    </tr>\n",
       "    <tr>\n",
       "      <th>mercedes_benz</th>\n",
       "      <td>8731.0</td>\n",
       "    </tr>\n",
       "    <tr>\n",
       "      <th>bmw</th>\n",
       "      <td>8521.0</td>\n",
       "    </tr>\n",
       "    <tr>\n",
       "      <th>chevrolet</th>\n",
       "      <td>6810.0</td>\n",
       "    </tr>\n",
       "    <tr>\n",
       "      <th>skoda</th>\n",
       "      <td>6542.0</td>\n",
       "    </tr>\n",
       "    <tr>\n",
       "      <th>kia</th>\n",
       "      <td>6090.0</td>\n",
       "    </tr>\n",
       "    <tr>\n",
       "      <th>dacia</th>\n",
       "      <td>5916.0</td>\n",
       "    </tr>\n",
       "    <tr>\n",
       "      <th>volkswagen</th>\n",
       "      <td>5688.0</td>\n",
       "    </tr>\n",
       "    <tr>\n",
       "      <th>hyundai</th>\n",
       "      <td>5571.0</td>\n",
       "    </tr>\n",
       "    <tr>\n",
       "      <th>toyota</th>\n",
       "      <td>5250.0</td>\n",
       "    </tr>\n",
       "    <tr>\n",
       "      <th>volvo</th>\n",
       "      <td>5143.0</td>\n",
       "    </tr>\n",
       "    <tr>\n",
       "      <th>nissan</th>\n",
       "      <td>5083.0</td>\n",
       "    </tr>\n",
       "    <tr>\n",
       "      <th>seat</th>\n",
       "      <td>4679.0</td>\n",
       "    </tr>\n",
       "    <tr>\n",
       "      <th>subaru</th>\n",
       "      <td>4415.0</td>\n",
       "    </tr>\n",
       "    <tr>\n",
       "      <th>suzuki</th>\n",
       "      <td>4354.0</td>\n",
       "    </tr>\n",
       "    <tr>\n",
       "      <th>mazda</th>\n",
       "      <td>4321.0</td>\n",
       "    </tr>\n",
       "    <tr>\n",
       "      <th>honda</th>\n",
       "      <td>4296.0</td>\n",
       "    </tr>\n",
       "    <tr>\n",
       "      <th>alfa_romeo</th>\n",
       "      <td>4269.0</td>\n",
       "    </tr>\n",
       "    <tr>\n",
       "      <th>ford</th>\n",
       "      <td>4167.0</td>\n",
       "    </tr>\n",
       "    <tr>\n",
       "      <th>citroen</th>\n",
       "      <td>3955.0</td>\n",
       "    </tr>\n",
       "    <tr>\n",
       "      <th>lancia</th>\n",
       "      <td>3726.0</td>\n",
       "    </tr>\n",
       "    <tr>\n",
       "      <th>mitsubishi</th>\n",
       "      <td>3721.0</td>\n",
       "    </tr>\n",
       "    <tr>\n",
       "      <th>smart</th>\n",
       "      <td>3601.0</td>\n",
       "    </tr>\n",
       "    <tr>\n",
       "      <th>chrysler</th>\n",
       "      <td>3567.0</td>\n",
       "    </tr>\n",
       "    <tr>\n",
       "      <th>saab</th>\n",
       "      <td>3416.0</td>\n",
       "    </tr>\n",
       "    <tr>\n",
       "      <th>peugeot</th>\n",
       "      <td>3300.0</td>\n",
       "    </tr>\n",
       "    <tr>\n",
       "      <th>opel</th>\n",
       "      <td>3281.0</td>\n",
       "    </tr>\n",
       "    <tr>\n",
       "      <th>fiat</th>\n",
       "      <td>3152.0</td>\n",
       "    </tr>\n",
       "    <tr>\n",
       "      <th>lada</th>\n",
       "      <td>2780.0</td>\n",
       "    </tr>\n",
       "    <tr>\n",
       "      <th>renault</th>\n",
       "      <td>2723.0</td>\n",
       "    </tr>\n",
       "    <tr>\n",
       "      <th>trabant</th>\n",
       "      <td>2222.0</td>\n",
       "    </tr>\n",
       "    <tr>\n",
       "      <th>daihatsu</th>\n",
       "      <td>1860.0</td>\n",
       "    </tr>\n",
       "    <tr>\n",
       "      <th>rover</th>\n",
       "      <td>1720.0</td>\n",
       "    </tr>\n",
       "    <tr>\n",
       "      <th>daewoo</th>\n",
       "      <td>1207.0</td>\n",
       "    </tr>\n",
       "  </tbody>\n",
       "</table>\n",
       "</div>"
      ],
      "text/plain": [
       "                mean_price\n",
       "porsche            46788.0\n",
       "land_rover         19108.0\n",
       "sonstige_autos     13317.0\n",
       "jaguar             12130.0\n",
       "jeep               11650.0\n",
       "mini               10691.0\n",
       "audi                9516.0\n",
       "mercedes_benz       8731.0\n",
       "bmw                 8521.0\n",
       "chevrolet           6810.0\n",
       "skoda               6542.0\n",
       "kia                 6090.0\n",
       "dacia               5916.0\n",
       "volkswagen          5688.0\n",
       "hyundai             5571.0\n",
       "toyota              5250.0\n",
       "volvo               5143.0\n",
       "nissan              5083.0\n",
       "seat                4679.0\n",
       "subaru              4415.0\n",
       "suzuki              4354.0\n",
       "mazda               4321.0\n",
       "honda               4296.0\n",
       "alfa_romeo          4269.0\n",
       "ford                4167.0\n",
       "citroen             3955.0\n",
       "lancia              3726.0\n",
       "mitsubishi          3721.0\n",
       "smart               3601.0\n",
       "chrysler            3567.0\n",
       "saab                3416.0\n",
       "peugeot             3300.0\n",
       "opel                3281.0\n",
       "fiat                3152.0\n",
       "lada                2780.0\n",
       "renault             2723.0\n",
       "trabant             2222.0\n",
       "daihatsu            1860.0\n",
       "rover               1720.0\n",
       "daewoo              1207.0"
      ]
     },
     "execution_count": 38,
     "metadata": {},
     "output_type": "execute_result"
    }
   ],
   "source": [
    "df_mean = pd.DataFrame(mpr_series, columns = ['mean_price'])\n",
    "df_mean"
   ]
  },
  {
   "cell_type": "code",
   "execution_count": 39,
   "metadata": {
    "collapsed": false,
    "scrolled": true
   },
   "outputs": [
    {
     "data": {
      "text/plain": [
       "{'alfa_romeo': 131436.0,\n",
       " 'audi': 129045.0,\n",
       " 'bmw': 132881.0,\n",
       " 'chevrolet': 100441.0,\n",
       " 'chrysler': 132736.0,\n",
       " 'citroen': 118965.0,\n",
       " 'dacia': 84268.0,\n",
       " 'daewoo': 118220.0,\n",
       " 'daihatsu': 115198.0,\n",
       " 'fiat': 115369.0,\n",
       " 'ford': 123615.0,\n",
       " 'honda': 122135.0,\n",
       " 'hyundai': 105656.0,\n",
       " 'jaguar': 125429.0,\n",
       " 'jeep': 127123.0,\n",
       " 'kia': 111836.0,\n",
       " 'lada': 84808.0,\n",
       " 'lancia': 119889.0,\n",
       " 'land_rover': 118010.0,\n",
       " 'mazda': 124264.0,\n",
       " 'mercedes_benz': 131068.0,\n",
       " 'mini': 88682.0,\n",
       " 'mitsubishi': 125690.0,\n",
       " 'nissan': 117526.0,\n",
       " 'opel': 128522.0,\n",
       " 'peugeot': 126532.0,\n",
       " 'porsche': 98477.0,\n",
       " 'renault': 126975.0,\n",
       " 'rover': 136579.0,\n",
       " 'saab': 144028.0,\n",
       " 'seat': 120776.0,\n",
       " 'skoda': 110792.0,\n",
       " 'smart': 99658.0,\n",
       " 'sonstige_autos': 90401.0,\n",
       " 'subaru': 125955.0,\n",
       " 'suzuki': 106654.0,\n",
       " 'toyota': 115669.0,\n",
       " 'trabant': 52647.0,\n",
       " 'volkswagen': 128417.0,\n",
       " 'volvo': 138573.0}"
      ]
     },
     "execution_count": 39,
     "metadata": {},
     "output_type": "execute_result"
    }
   ],
   "source": [
    "miles_pivot = {}\n",
    "for i in brand:\n",
    "    miles_pivot[i] = round(autos.loc[autos['brand'] == i, 'odometer_km'].mean(),0)\n",
    "miles_pivot"
   ]
  },
  {
   "cell_type": "code",
   "execution_count": 40,
   "metadata": {
    "collapsed": false,
    "scrolled": true
   },
   "outputs": [],
   "source": [
    "miles_series = pd.Series(miles_pivot, name = 'mean_km').sort_values(ascending = False)\n",
    "count_series = pd.Series(top_br)"
   ]
  },
  {
   "cell_type": "code",
   "execution_count": 41,
   "metadata": {
    "collapsed": false
   },
   "outputs": [
    {
     "name": "stdout",
     "output_type": "stream",
     "text": [
      "               mean_price   mean_km  num_adds\n",
      "audi               9516.0  129045.0      3963\n",
      "mercedes_benz      8731.0  131068.0      4449\n",
      "bmw                8521.0  132881.0      5021\n",
      "volkswagen         5688.0  128417.0      9347\n",
      "ford               4167.0  123615.0      2917\n",
      "opel               3281.0  128522.0      4519\n"
     ]
    }
   ],
   "source": [
    "import pprint\n",
    "df_mean ['mean_km'] = miles_series\n",
    "df_mean['num_adds'] = count_series\n",
    "top_6 = df_mean[df_mean['num_adds']>2000]\n",
    "pprint.pprint(top_6.sort_values('mean_price', ascending = False))"
   ]
  },
  {
   "cell_type": "markdown",
   "metadata": {},
   "source": [
    "This is the summary data for the top 6 most popular brands, collected in a single data frame. As the milage column contains only 13 unique milage numbers (probably ranges and not real values) we cannot see if milage can explain the wide differene in mean prices."
   ]
  },
  {
   "cell_type": "markdown",
   "metadata": {},
   "source": [
    "## 9. Next Steps"
   ]
  },
  {
   "cell_type": "markdown",
   "metadata": {},
   "source": [
    "##### Translating categorical data from German to English"
   ]
  },
  {
   "cell_type": "markdown",
   "metadata": {},
   "source": [
    "Columns containing categorical data:\n",
    "    *abtest | vehicle_type | offer_type | \n",
    "seller | gearbox | model | fuel_type | brand |\n",
    "unrepaired_damage*"
   ]
  },
  {
   "cell_type": "markdown",
   "metadata": {},
   "source": [
    "Let's review the content of these columns and translate into English."
   ]
  },
  {
   "cell_type": "code",
   "execution_count": 42,
   "metadata": {
    "collapsed": false
   },
   "outputs": [
    {
     "data": {
      "text/plain": [
       "test       22785\n",
       "control    21376\n",
       "Name: abtest, dtype: int64"
      ]
     },
     "execution_count": 42,
     "metadata": {},
     "output_type": "execute_result"
    }
   ],
   "source": [
    "autos['abtest'].value_counts()"
   ]
  },
  {
   "cell_type": "markdown",
   "metadata": {},
   "source": [
    "No need for translation."
   ]
  },
  {
   "cell_type": "code",
   "execution_count": 43,
   "metadata": {
    "collapsed": false
   },
   "outputs": [
    {
     "name": "stdout",
     "output_type": "stream",
     "text": [
      "limousine     12224\n",
      "kleinwagen     9558\n",
      "kombi          8672\n",
      "bus            3973\n",
      "cabrio         2983\n",
      "coupe          2395\n",
      "NaN            2039\n",
      "suv            1959\n",
      "andere          358\n",
      "Name: vehicle_type, dtype: int64\n"
     ]
    }
   ],
   "source": [
    "print(autos['vehicle_type'].value_counts(dropna = False))\n"
   ]
  },
  {
   "cell_type": "code",
   "execution_count": 44,
   "metadata": {
    "collapsed": false
   },
   "outputs": [
    {
     "data": {
      "text/plain": [
       "limousine        12224\n",
       "small car         9558\n",
       "station wagon     8672\n",
       "van               3973\n",
       "convertible       2983\n",
       "coupe             2395\n",
       "NaN               2039\n",
       "suv               1959\n",
       "other              358\n",
       "Name: vehicle_type, dtype: int64"
      ]
     },
     "execution_count": 44,
     "metadata": {},
     "output_type": "execute_result"
    }
   ],
   "source": [
    "map_dict_1 ={#'limousine':'limousine'\n",
    "              'kleinwagen': 'small car', \n",
    "              'kombi': 'station wagon',\n",
    "              'bus': 'van',\n",
    "            # 'coupe':'coupe',\n",
    "#             'suv':'suv',\n",
    "              'cabrio':'convertible',\n",
    "              'andere':'other'}\n",
    "\n",
    "              \n",
    "eng_type = autos['vehicle_type'].replace(map_dict_1, inplace = True)\n",
    "autos['vehicle_type'].value_counts(dropna = False)"
   ]
  },
  {
   "cell_type": "code",
   "execution_count": 45,
   "metadata": {
    "collapsed": false
   },
   "outputs": [
    {
     "name": "stdout",
     "output_type": "stream",
     "text": [
      "Angebot    44161\n",
      "Name: offer_type, dtype: int64\n"
     ]
    }
   ],
   "source": [
    "print(autos['offer_type'].value_counts())\n"
   ]
  },
  {
   "cell_type": "code",
   "execution_count": 46,
   "metadata": {
    "collapsed": false
   },
   "outputs": [
    {
     "data": {
      "text/plain": [
       "Offer    44161\n",
       "Name: offer_type, dtype: int64"
      ]
     },
     "execution_count": 46,
     "metadata": {},
     "output_type": "execute_result"
    }
   ],
   "source": [
    "autos['offer_type'].replace({'Angebot':'Offer'}, inplace = True)\n",
    "autos['offer_type'].value_counts()"
   ]
  },
  {
   "cell_type": "code",
   "execution_count": 47,
   "metadata": {
    "collapsed": false
   },
   "outputs": [
    {
     "name": "stdout",
     "output_type": "stream",
     "text": [
      "privat    44161\n",
      "Name: seller, dtype: int64\n"
     ]
    }
   ],
   "source": [
    "print(autos['seller'].value_counts())"
   ]
  },
  {
   "cell_type": "code",
   "execution_count": 48,
   "metadata": {
    "collapsed": false
   },
   "outputs": [
    {
     "data": {
      "text/plain": [
       "private    44161\n",
       "Name: seller, dtype: int64"
      ]
     },
     "execution_count": 48,
     "metadata": {},
     "output_type": "execute_result"
    }
   ],
   "source": [
    "autos['seller'].replace({'privat':'private'}, inplace = True)\n",
    "autos['seller'].value_counts()"
   ]
  },
  {
   "cell_type": "code",
   "execution_count": 49,
   "metadata": {
    "collapsed": false
   },
   "outputs": [
    {
     "name": "stdout",
     "output_type": "stream",
     "text": [
      "manuell      32771\n",
      "automatik     9713\n",
      "Name: gearbox, dtype: int64\n"
     ]
    }
   ],
   "source": [
    "print(autos['gearbox'].value_counts())\n"
   ]
  },
  {
   "cell_type": "code",
   "execution_count": 50,
   "metadata": {
    "collapsed": false
   },
   "outputs": [
    {
     "data": {
      "text/plain": [
       "manual       32771\n",
       "automatic     9713\n",
       "Name: gearbox, dtype: int64"
      ]
     },
     "execution_count": 50,
     "metadata": {},
     "output_type": "execute_result"
    }
   ],
   "source": [
    "autos['gearbox'].replace({'manuell':'manual', 'automatik':'automatic'}, inplace = True)\n",
    "autos['gearbox'].value_counts()"
   ]
  },
  {
   "cell_type": "code",
   "execution_count": 51,
   "metadata": {
    "collapsed": false,
    "scrolled": true
   },
   "outputs": [
    {
     "name": "stdout",
     "output_type": "stream",
     "text": [
      "benzin     26774\n",
      "diesel     13932\n",
      "lpg          637\n",
      "cng           67\n",
      "hybrid        37\n",
      "elektro       18\n",
      "andere        11\n",
      "Name: fuel_type, dtype: int64\n"
     ]
    }
   ],
   "source": [
    "print(autos['fuel_type'].value_counts())\n"
   ]
  },
  {
   "cell_type": "code",
   "execution_count": 52,
   "metadata": {
    "collapsed": false
   },
   "outputs": [
    {
     "data": {
      "text/plain": [
       "gasoline    26774\n",
       "diesel      13932\n",
       "lpg           637\n",
       "cng            67\n",
       "hybrid         37\n",
       "electric       18\n",
       "other          11\n",
       "Name: fuel_type, dtype: int64"
      ]
     },
     "execution_count": 52,
     "metadata": {},
     "output_type": "execute_result"
    }
   ],
   "source": [
    "autos['fuel_type'].replace({'benzin':'gasoline', \n",
    "                            'elektro':'electric',\n",
    "                            'andere':'other'}, inplace = True)\n",
    "autos['fuel_type'].value_counts()"
   ]
  },
  {
   "cell_type": "code",
   "execution_count": 53,
   "metadata": {
    "collapsed": false,
    "scrolled": true
   },
   "outputs": [
    {
     "name": "stdout",
     "output_type": "stream",
     "text": [
      "nein    33251\n",
      "ja       3786\n",
      "Name: unrepaired_damage, dtype: int64\n"
     ]
    }
   ],
   "source": [
    "\n",
    "print(autos['unrepaired_damage'].value_counts())"
   ]
  },
  {
   "cell_type": "code",
   "execution_count": 54,
   "metadata": {
    "collapsed": false
   },
   "outputs": [
    {
     "data": {
      "text/plain": [
       "no     33251\n",
       "yes     3786\n",
       "Name: unrepaired_damage, dtype: int64"
      ]
     },
     "execution_count": 54,
     "metadata": {},
     "output_type": "execute_result"
    }
   ],
   "source": [
    "autos['unrepaired_damage'].replace({'nein':'no', \n",
    "                            'ja':'yes'}, inplace = True)\n",
    "autos['unrepaired_damage'].value_counts()"
   ]
  },
  {
   "cell_type": "markdown",
   "metadata": {},
   "source": [
    "##### Converting date columns to integer format - *yyyymmdd*."
   ]
  },
  {
   "cell_type": "markdown",
   "metadata": {},
   "source": [
    "The tree columns, containing dates are: *date_crawled; ad_created; last_seen*."
   ]
  },
  {
   "cell_type": "code",
   "execution_count": 55,
   "metadata": {
    "collapsed": false
   },
   "outputs": [
    {
     "name": "stdout",
     "output_type": "stream",
     "text": [
      "<class 'pandas.core.frame.DataFrame'>\n",
      "Int64Index: 44161 entries, 0 to 49999\n",
      "Data columns (total 3 columns):\n",
      "date_crawled    44161 non-null int64\n",
      "ad_created      44161 non-null int64\n",
      "last_seen       44161 non-null int64\n",
      "dtypes: int64(3)\n",
      "memory usage: 1.3 MB\n"
     ]
    }
   ],
   "source": [
    "autos['date_crawled'] = autos['date_crawled'].str[:10].str.replace('-','').astype(int)\n",
    "autos['ad_created']=autos['ad_created'].str[:10].str.replace('-','').astype(int)\n",
    "autos['last_seen']=autos['last_seen'].str[:10].str.replace('-','').astype(int)\n",
    "autos[['date_crawled', 'ad_created', 'last_seen']].info()"
   ]
  },
  {
   "cell_type": "code",
   "execution_count": 56,
   "metadata": {
    "collapsed": false,
    "scrolled": true
   },
   "outputs": [
    {
     "data": {
      "text/html": [
       "<div>\n",
       "<style scoped>\n",
       "    .dataframe tbody tr th:only-of-type {\n",
       "        vertical-align: middle;\n",
       "    }\n",
       "\n",
       "    .dataframe tbody tr th {\n",
       "        vertical-align: top;\n",
       "    }\n",
       "\n",
       "    .dataframe thead th {\n",
       "        text-align: right;\n",
       "    }\n",
       "</style>\n",
       "<table border=\"1\" class=\"dataframe\">\n",
       "  <thead>\n",
       "    <tr style=\"text-align: right;\">\n",
       "      <th></th>\n",
       "      <th>date_crawled</th>\n",
       "      <th>ad_created</th>\n",
       "      <th>last_seen</th>\n",
       "    </tr>\n",
       "  </thead>\n",
       "  <tbody>\n",
       "    <tr>\n",
       "      <th>0</th>\n",
       "      <td>20160326</td>\n",
       "      <td>20160326</td>\n",
       "      <td>20160406</td>\n",
       "    </tr>\n",
       "    <tr>\n",
       "      <th>1</th>\n",
       "      <td>20160404</td>\n",
       "      <td>20160404</td>\n",
       "      <td>20160406</td>\n",
       "    </tr>\n",
       "    <tr>\n",
       "      <th>2</th>\n",
       "      <td>20160326</td>\n",
       "      <td>20160326</td>\n",
       "      <td>20160406</td>\n",
       "    </tr>\n",
       "    <tr>\n",
       "      <th>3</th>\n",
       "      <td>20160312</td>\n",
       "      <td>20160312</td>\n",
       "      <td>20160315</td>\n",
       "    </tr>\n",
       "    <tr>\n",
       "      <th>4</th>\n",
       "      <td>20160401</td>\n",
       "      <td>20160401</td>\n",
       "      <td>20160401</td>\n",
       "    </tr>\n",
       "  </tbody>\n",
       "</table>\n",
       "</div>"
      ],
      "text/plain": [
       "   date_crawled  ad_created  last_seen\n",
       "0      20160326    20160326   20160406\n",
       "1      20160404    20160404   20160406\n",
       "2      20160326    20160326   20160406\n",
       "3      20160312    20160312   20160315\n",
       "4      20160401    20160401   20160401"
      ]
     },
     "execution_count": 56,
     "metadata": {},
     "output_type": "execute_result"
    }
   ],
   "source": [
    "autos[['date_crawled', 'ad_created','last_seen']].head()"
   ]
  },
  {
   "cell_type": "markdown",
   "metadata": {},
   "source": [
    "##### Exploring column *'name'* for useful information"
   ]
  },
  {
   "cell_type": "code",
   "execution_count": 57,
   "metadata": {
    "collapsed": false,
    "scrolled": true
   },
   "outputs": [
    {
     "data": {
      "text/html": [
       "<div>\n",
       "<style scoped>\n",
       "    .dataframe tbody tr th:only-of-type {\n",
       "        vertical-align: middle;\n",
       "    }\n",
       "\n",
       "    .dataframe tbody tr th {\n",
       "        vertical-align: top;\n",
       "    }\n",
       "\n",
       "    .dataframe thead th {\n",
       "        text-align: right;\n",
       "    }\n",
       "</style>\n",
       "<table border=\"1\" class=\"dataframe\">\n",
       "  <thead>\n",
       "    <tr style=\"text-align: right;\">\n",
       "      <th></th>\n",
       "      <th>date_crawled</th>\n",
       "      <th>name</th>\n",
       "      <th>seller</th>\n",
       "      <th>offer_type</th>\n",
       "      <th>price</th>\n",
       "      <th>abtest</th>\n",
       "      <th>vehicle_type</th>\n",
       "      <th>registration_year</th>\n",
       "      <th>gearbox</th>\n",
       "      <th>power_p_s</th>\n",
       "      <th>...</th>\n",
       "      <th>odometer_km</th>\n",
       "      <th>registration_month</th>\n",
       "      <th>fuel_type</th>\n",
       "      <th>brand</th>\n",
       "      <th>unrepaired_damage</th>\n",
       "      <th>ad_created</th>\n",
       "      <th>nr_of_pictures</th>\n",
       "      <th>postal_code</th>\n",
       "      <th>last_seen</th>\n",
       "      <th>AC</th>\n",
       "    </tr>\n",
       "  </thead>\n",
       "  <tbody>\n",
       "    <tr>\n",
       "      <th>3</th>\n",
       "      <td>20160312</td>\n",
       "      <td>Smart_smart_fortwo_coupe_softouch/F1/Klima/Pan...</td>\n",
       "      <td>private</td>\n",
       "      <td>Offer</td>\n",
       "      <td>4350</td>\n",
       "      <td>control</td>\n",
       "      <td>small car</td>\n",
       "      <td>2007</td>\n",
       "      <td>automatic</td>\n",
       "      <td>71</td>\n",
       "      <td>...</td>\n",
       "      <td>70000</td>\n",
       "      <td>6</td>\n",
       "      <td>gasoline</td>\n",
       "      <td>smart</td>\n",
       "      <td>no</td>\n",
       "      <td>20160312</td>\n",
       "      <td>0</td>\n",
       "      <td>33729</td>\n",
       "      <td>20160315</td>\n",
       "      <td>Yes</td>\n",
       "    </tr>\n",
       "    <tr>\n",
       "      <th>31743</th>\n",
       "      <td>20160320</td>\n",
       "      <td>BMW_116d_Klimautomatik_/_PDC_/_LM_/_Sitzheizung</td>\n",
       "      <td>private</td>\n",
       "      <td>Offer</td>\n",
       "      <td>15290</td>\n",
       "      <td>test</td>\n",
       "      <td>limousine</td>\n",
       "      <td>2013</td>\n",
       "      <td>manual</td>\n",
       "      <td>116</td>\n",
       "      <td>...</td>\n",
       "      <td>100000</td>\n",
       "      <td>11</td>\n",
       "      <td>diesel</td>\n",
       "      <td>bmw</td>\n",
       "      <td>no</td>\n",
       "      <td>20160320</td>\n",
       "      <td>0</td>\n",
       "      <td>28325</td>\n",
       "      <td>20160407</td>\n",
       "      <td>Yes</td>\n",
       "    </tr>\n",
       "    <tr>\n",
       "      <th>32412</th>\n",
       "      <td>20160305</td>\n",
       "      <td>Ford_Fusion_1_4_Klima</td>\n",
       "      <td>private</td>\n",
       "      <td>Offer</td>\n",
       "      <td>2590</td>\n",
       "      <td>control</td>\n",
       "      <td>limousine</td>\n",
       "      <td>2006</td>\n",
       "      <td>manual</td>\n",
       "      <td>80</td>\n",
       "      <td>...</td>\n",
       "      <td>125000</td>\n",
       "      <td>3</td>\n",
       "      <td>gasoline</td>\n",
       "      <td>ford</td>\n",
       "      <td>yes</td>\n",
       "      <td>20160305</td>\n",
       "      <td>0</td>\n",
       "      <td>61267</td>\n",
       "      <td>20160311</td>\n",
       "      <td>Yes</td>\n",
       "    </tr>\n",
       "    <tr>\n",
       "      <th>32371</th>\n",
       "      <td>20160326</td>\n",
       "      <td>Audi_A3_Ambition_1.6_FSI_S_Line__Xenon/SSD/Kli...</td>\n",
       "      <td>private</td>\n",
       "      <td>Offer</td>\n",
       "      <td>4990</td>\n",
       "      <td>test</td>\n",
       "      <td>small car</td>\n",
       "      <td>2006</td>\n",
       "      <td>manual</td>\n",
       "      <td>115</td>\n",
       "      <td>...</td>\n",
       "      <td>150000</td>\n",
       "      <td>11</td>\n",
       "      <td>gasoline</td>\n",
       "      <td>audi</td>\n",
       "      <td>no</td>\n",
       "      <td>20160326</td>\n",
       "      <td>0</td>\n",
       "      <td>41334</td>\n",
       "      <td>20160326</td>\n",
       "      <td>Yes</td>\n",
       "    </tr>\n",
       "    <tr>\n",
       "      <th>32350</th>\n",
       "      <td>20160306</td>\n",
       "      <td>Mercedes_Benz_SLK_230_Kompressor__Automatik__K...</td>\n",
       "      <td>private</td>\n",
       "      <td>Offer</td>\n",
       "      <td>6400</td>\n",
       "      <td>control</td>\n",
       "      <td>convertible</td>\n",
       "      <td>1999</td>\n",
       "      <td>automatic</td>\n",
       "      <td>193</td>\n",
       "      <td>...</td>\n",
       "      <td>150000</td>\n",
       "      <td>5</td>\n",
       "      <td>gasoline</td>\n",
       "      <td>mercedes_benz</td>\n",
       "      <td>no</td>\n",
       "      <td>20160306</td>\n",
       "      <td>0</td>\n",
       "      <td>76846</td>\n",
       "      <td>20160406</td>\n",
       "      <td>Yes</td>\n",
       "    </tr>\n",
       "  </tbody>\n",
       "</table>\n",
       "<p>5 rows × 21 columns</p>\n",
       "</div>"
      ],
      "text/plain": [
       "       date_crawled                                               name  \\\n",
       "3          20160312  Smart_smart_fortwo_coupe_softouch/F1/Klima/Pan...   \n",
       "31743      20160320    BMW_116d_Klimautomatik_/_PDC_/_LM_/_Sitzheizung   \n",
       "32412      20160305                              Ford_Fusion_1_4_Klima   \n",
       "32371      20160326  Audi_A3_Ambition_1.6_FSI_S_Line__Xenon/SSD/Kli...   \n",
       "32350      20160306  Mercedes_Benz_SLK_230_Kompressor__Automatik__K...   \n",
       "\n",
       "        seller offer_type  price   abtest vehicle_type  registration_year  \\\n",
       "3      private      Offer   4350  control    small car               2007   \n",
       "31743  private      Offer  15290     test    limousine               2013   \n",
       "32412  private      Offer   2590  control    limousine               2006   \n",
       "32371  private      Offer   4990     test    small car               2006   \n",
       "32350  private      Offer   6400  control  convertible               1999   \n",
       "\n",
       "         gearbox  power_p_s ...  odometer_km  registration_month  fuel_type  \\\n",
       "3      automatic         71 ...        70000                   6   gasoline   \n",
       "31743     manual        116 ...       100000                  11     diesel   \n",
       "32412     manual         80 ...       125000                   3   gasoline   \n",
       "32371     manual        115 ...       150000                  11   gasoline   \n",
       "32350  automatic        193 ...       150000                   5   gasoline   \n",
       "\n",
       "               brand unrepaired_damage ad_created  nr_of_pictures  \\\n",
       "3              smart                no   20160312               0   \n",
       "31743            bmw                no   20160320               0   \n",
       "32412           ford               yes   20160305               0   \n",
       "32371           audi                no   20160326               0   \n",
       "32350  mercedes_benz                no   20160306               0   \n",
       "\n",
       "       postal_code  last_seen   AC  \n",
       "3            33729   20160315  Yes  \n",
       "31743        28325   20160407  Yes  \n",
       "32412        61267   20160311  Yes  \n",
       "32371        41334   20160326  Yes  \n",
       "32350        76846   20160406  Yes  \n",
       "\n",
       "[5 rows x 21 columns]"
      ]
     },
     "execution_count": 57,
     "metadata": {},
     "output_type": "execute_result"
    }
   ],
   "source": [
    "autos.loc[autos['name'].str.find('Klima')> 0,'AC'] = 'Yes'\n",
    "autos.sort_values('AC', ascending = False).head()"
   ]
  },
  {
   "cell_type": "markdown",
   "metadata": {},
   "source": [
    "We explored the text in column *'name'* and if we found a string containing *'Klima'* we put a value of *'Yes'* in a new column called *'AC'* "
   ]
  },
  {
   "cell_type": "markdown",
   "metadata": {},
   "source": [
    "##### Finding the most common 'brand' - 'model' combinations"
   ]
  },
  {
   "cell_type": "code",
   "execution_count": 58,
   "metadata": {
    "collapsed": false,
    "scrolled": true
   },
   "outputs": [
    {
     "data": {
      "text/plain": [
       "volkswagen|golf           3504\n",
       "bmw|3er                   2546\n",
       "volkswagen|polo           1407\n",
       "opel|corsa                1343\n",
       "volkswagen|passat         1324\n",
       "opel|astra                1260\n",
       "audi|a4                   1210\n",
       "mercedes_benz|c_klasse    1128\n",
       "bmw|5er                   1120\n",
       "mercedes_benz|e_klasse     949\n",
       "dtype: int64"
      ]
     },
     "execution_count": 58,
     "metadata": {},
     "output_type": "execute_result"
    }
   ],
   "source": [
    "brand_mod = autos['brand']+'|'+autos['model']\n",
    "brand_mod.value_counts().sort_values(ascending = False).head(10)"
   ]
  },
  {
   "cell_type": "markdown",
   "metadata": {},
   "source": [
    "##### Checking for Patterns of Relation between Mileage and Prices"
   ]
  },
  {
   "cell_type": "code",
   "execution_count": 59,
   "metadata": {
    "collapsed": false,
    "scrolled": true
   },
   "outputs": [
    {
     "data": {
      "text/plain": [
       "150000    28133\n",
       "125000     4709\n",
       "100000     1994\n",
       "90000      1634\n",
       "80000      1356\n",
       "70000      1165\n",
       "60000      1110\n",
       "50000       980\n",
       "40000       791\n",
       "30000       748\n",
       "20000       713\n",
       "5000        601\n",
       "10000       227\n",
       "Name: odometer_km, dtype: int64"
      ]
     },
     "execution_count": 59,
     "metadata": {},
     "output_type": "execute_result"
    }
   ],
   "source": [
    "autos['odometer_km'].value_counts()"
   ]
  },
  {
   "cell_type": "markdown",
   "metadata": {},
   "source": [
    "It seems that mileage data has already been aggregated but lets group it further in the following buckets and then ckeck what's  the mean price for each bucket:\n",
    "- 0 - 20k;\n",
    "- 21 - 50k;\n",
    "- 51 - 70k;\n",
    "- 71 - 90k;\n",
    "- 91 - 100k;\n",
    "- 101 - 125k\n",
    "- \\> 125k.\n"
   ]
  },
  {
   "cell_type": "code",
   "execution_count": 60,
   "metadata": {
    "collapsed": false,
    "scrolled": true
   },
   "outputs": [
    {
     "data": {
      "text/plain": [
       "above 126.0k km      4013.0\n",
       "101.0k-125.0k km     6403.0\n",
       "91.0k-100.0k km      8388.0\n",
       "71.0k-90.0k km       9203.0\n",
       "51.0k-70.0k km      11838.0\n",
       "21.0k-50.0k km      15357.0\n",
       "0.0k-20.0k km       16594.0\n",
       "dtype: float64"
      ]
     },
     "execution_count": 60,
     "metadata": {},
     "output_type": "execute_result"
    }
   ],
   "source": [
    "buckets = (20000, 50000, 70000, 90000, 100000, 125000)\n",
    "miles_prices = {}\n",
    "lim1 = 0\n",
    "r = '{0}k-{1}k km'\n",
    "r_final = 'above {0}k km'\n",
    "for i in buckets:\n",
    "    miles_prices[r.format(lim1/1000, i/1000)] = round(\\\n",
    "    autos.loc[autos['odometer_km'].between(lim1, i),'price'].mean(), 0)\n",
    "    lim1 = i + 1000\n",
    "miles_prices[r_final.format(lim1/1000)] = round(\\\n",
    "autos.loc[autos['odometer_km']>lim1,'price'].mean(),0)\n",
    "m_p_df = pd.Series(miles_prices)\n",
    "m_p_df.sort_values()"
   ]
  },
  {
   "cell_type": "markdown",
   "metadata": {},
   "source": [
    ">Of course there is no surprise here - prices are perfectly negatively correlated to mileage - the higher the mileage the lower the mean price of vehicles."
   ]
  },
  {
   "cell_type": "markdown",
   "metadata": {},
   "source": [
    "##### Check how cheaper damaged cars are in comparison to non_damaged ones"
   ]
  },
  {
   "cell_type": "code",
   "execution_count": 61,
   "metadata": {
    "collapsed": false
   },
   "outputs": [
    {
     "data": {
      "text/plain": [
       "no     33251\n",
       "yes     3786\n",
       "Name: unrepaired_damage, dtype: int64"
      ]
     },
     "execution_count": 61,
     "metadata": {},
     "output_type": "execute_result"
    }
   ],
   "source": [
    "autos['unrepaired_damage'].value_counts()"
   ]
  },
  {
   "cell_type": "code",
   "execution_count": 62,
   "metadata": {
    "collapsed": false
   },
   "outputs": [
    {
     "data": {
      "text/plain": [
       "Cars with no defects    7285.0\n",
       "Damaged cars            2642.0\n",
       "dtype: float64"
      ]
     },
     "execution_count": 62,
     "metadata": {},
     "output_type": "execute_result"
    }
   ],
   "source": [
    "damage = {}\n",
    "damage['Damaged cars'] = round(\\\n",
    "autos.loc[autos['unrepaired_damage'] == 'yes','price'].mean())\n",
    "damage['Cars with no defects'] = round(\\\n",
    "autos.loc[autos['unrepaired_damage'] == 'no', 'price'].mean())\n",
    "pd.Series(damage)"
   ]
  },
  {
   "cell_type": "markdown",
   "metadata": {},
   "source": [
    ">Again - a predictable outcome! Damaged cars are cheaper on average than cars with no defects."
   ]
  }
 ],
 "metadata": {
  "kernelspec": {
   "display_name": "Python 3",
   "language": "python",
   "name": "python3"
  },
  "language_info": {
   "codemirror_mode": {
    "name": "ipython",
    "version": 3
   },
   "file_extension": ".py",
   "mimetype": "text/x-python",
   "name": "python",
   "nbconvert_exporter": "python",
   "pygments_lexer": "ipython3",
   "version": "3.4.3"
  }
 },
 "nbformat": 4,
 "nbformat_minor": 2
}
